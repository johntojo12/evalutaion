{
 "cells": [
  {
   "cell_type": "markdown",
   "id": "dc2f0acc",
   "metadata": {},
   "source": [
    "# Loan Application Status Prediction\n",
    "\n",
    "#### Problem Statement:\n",
    "This dataset includes details of applicants who have applied for loan. The dataset includes details like credit history, loan amount, their income, dependents etc. \n",
    "\n",
    "#### Independent Variables:\n",
    "\n",
    "- Loan_ID\n",
    "\n",
    "- Gender\n",
    "\n",
    "- Married\n",
    "\n",
    "- Dependents\n",
    "\n",
    "- Education\n",
    "\n",
    "- Self_Employed\n",
    "\n",
    "- ApplicantIncome\n",
    "\n",
    "- CoapplicantIncome\n",
    "\n",
    "- Loan_Amount\n",
    "\n",
    "- Loan_Amount_Term\n",
    "\n",
    "- Credit History\n",
    "\n",
    "- Property_Area\n",
    "\n",
    "#### Dependent Variable (Target Variable):\n",
    "\n",
    "- Loan_Status\n",
    "\n",
    "You have to build a model that can predict whether the loan of the applicant will be approved or not on the basis of the details provided in the dataset. "
   ]
  },
  {
   "cell_type": "code",
   "execution_count": 1,
   "id": "f1d02f83",
   "metadata": {},
   "outputs": [],
   "source": [
    "#importing necessary library\n",
    "import pandas as pd\n",
    "import numpy as np\n",
    "import warnings\n",
    "warnings.filterwarnings('ignore')\n",
    "import seaborn as sns\n",
    "import matplotlib.pyplot as plt\n",
    "from scipy import stats"
   ]
  },
  {
   "cell_type": "code",
   "execution_count": 2,
   "id": "ad8b61f6",
   "metadata": {},
   "outputs": [
    {
     "data": {
      "text/html": [
       "<div>\n",
       "<style scoped>\n",
       "    .dataframe tbody tr th:only-of-type {\n",
       "        vertical-align: middle;\n",
       "    }\n",
       "\n",
       "    .dataframe tbody tr th {\n",
       "        vertical-align: top;\n",
       "    }\n",
       "\n",
       "    .dataframe thead th {\n",
       "        text-align: right;\n",
       "    }\n",
       "</style>\n",
       "<table border=\"1\" class=\"dataframe\">\n",
       "  <thead>\n",
       "    <tr style=\"text-align: right;\">\n",
       "      <th></th>\n",
       "      <th>Loan_ID</th>\n",
       "      <th>Gender</th>\n",
       "      <th>Married</th>\n",
       "      <th>Dependents</th>\n",
       "      <th>Education</th>\n",
       "      <th>Self_Employed</th>\n",
       "      <th>ApplicantIncome</th>\n",
       "      <th>CoapplicantIncome</th>\n",
       "      <th>LoanAmount</th>\n",
       "      <th>Loan_Amount_Term</th>\n",
       "      <th>Credit_History</th>\n",
       "      <th>Property_Area</th>\n",
       "      <th>Loan_Status</th>\n",
       "    </tr>\n",
       "  </thead>\n",
       "  <tbody>\n",
       "    <tr>\n",
       "      <th>0</th>\n",
       "      <td>LP001002</td>\n",
       "      <td>Male</td>\n",
       "      <td>No</td>\n",
       "      <td>0</td>\n",
       "      <td>Graduate</td>\n",
       "      <td>No</td>\n",
       "      <td>5849</td>\n",
       "      <td>0.0</td>\n",
       "      <td>NaN</td>\n",
       "      <td>360.0</td>\n",
       "      <td>1.0</td>\n",
       "      <td>Urban</td>\n",
       "      <td>Y</td>\n",
       "    </tr>\n",
       "    <tr>\n",
       "      <th>1</th>\n",
       "      <td>LP001003</td>\n",
       "      <td>Male</td>\n",
       "      <td>Yes</td>\n",
       "      <td>1</td>\n",
       "      <td>Graduate</td>\n",
       "      <td>No</td>\n",
       "      <td>4583</td>\n",
       "      <td>1508.0</td>\n",
       "      <td>128.0</td>\n",
       "      <td>360.0</td>\n",
       "      <td>1.0</td>\n",
       "      <td>Rural</td>\n",
       "      <td>N</td>\n",
       "    </tr>\n",
       "    <tr>\n",
       "      <th>2</th>\n",
       "      <td>LP001005</td>\n",
       "      <td>Male</td>\n",
       "      <td>Yes</td>\n",
       "      <td>0</td>\n",
       "      <td>Graduate</td>\n",
       "      <td>Yes</td>\n",
       "      <td>3000</td>\n",
       "      <td>0.0</td>\n",
       "      <td>66.0</td>\n",
       "      <td>360.0</td>\n",
       "      <td>1.0</td>\n",
       "      <td>Urban</td>\n",
       "      <td>Y</td>\n",
       "    </tr>\n",
       "    <tr>\n",
       "      <th>3</th>\n",
       "      <td>LP001006</td>\n",
       "      <td>Male</td>\n",
       "      <td>Yes</td>\n",
       "      <td>0</td>\n",
       "      <td>Not Graduate</td>\n",
       "      <td>No</td>\n",
       "      <td>2583</td>\n",
       "      <td>2358.0</td>\n",
       "      <td>120.0</td>\n",
       "      <td>360.0</td>\n",
       "      <td>1.0</td>\n",
       "      <td>Urban</td>\n",
       "      <td>Y</td>\n",
       "    </tr>\n",
       "    <tr>\n",
       "      <th>4</th>\n",
       "      <td>LP001008</td>\n",
       "      <td>Male</td>\n",
       "      <td>No</td>\n",
       "      <td>0</td>\n",
       "      <td>Graduate</td>\n",
       "      <td>No</td>\n",
       "      <td>6000</td>\n",
       "      <td>0.0</td>\n",
       "      <td>141.0</td>\n",
       "      <td>360.0</td>\n",
       "      <td>1.0</td>\n",
       "      <td>Urban</td>\n",
       "      <td>Y</td>\n",
       "    </tr>\n",
       "    <tr>\n",
       "      <th>...</th>\n",
       "      <td>...</td>\n",
       "      <td>...</td>\n",
       "      <td>...</td>\n",
       "      <td>...</td>\n",
       "      <td>...</td>\n",
       "      <td>...</td>\n",
       "      <td>...</td>\n",
       "      <td>...</td>\n",
       "      <td>...</td>\n",
       "      <td>...</td>\n",
       "      <td>...</td>\n",
       "      <td>...</td>\n",
       "      <td>...</td>\n",
       "    </tr>\n",
       "    <tr>\n",
       "      <th>609</th>\n",
       "      <td>LP002978</td>\n",
       "      <td>Female</td>\n",
       "      <td>No</td>\n",
       "      <td>0</td>\n",
       "      <td>Graduate</td>\n",
       "      <td>No</td>\n",
       "      <td>2900</td>\n",
       "      <td>0.0</td>\n",
       "      <td>71.0</td>\n",
       "      <td>360.0</td>\n",
       "      <td>1.0</td>\n",
       "      <td>Rural</td>\n",
       "      <td>Y</td>\n",
       "    </tr>\n",
       "    <tr>\n",
       "      <th>610</th>\n",
       "      <td>LP002979</td>\n",
       "      <td>Male</td>\n",
       "      <td>Yes</td>\n",
       "      <td>3+</td>\n",
       "      <td>Graduate</td>\n",
       "      <td>No</td>\n",
       "      <td>4106</td>\n",
       "      <td>0.0</td>\n",
       "      <td>40.0</td>\n",
       "      <td>180.0</td>\n",
       "      <td>1.0</td>\n",
       "      <td>Rural</td>\n",
       "      <td>Y</td>\n",
       "    </tr>\n",
       "    <tr>\n",
       "      <th>611</th>\n",
       "      <td>LP002983</td>\n",
       "      <td>Male</td>\n",
       "      <td>Yes</td>\n",
       "      <td>1</td>\n",
       "      <td>Graduate</td>\n",
       "      <td>No</td>\n",
       "      <td>8072</td>\n",
       "      <td>240.0</td>\n",
       "      <td>253.0</td>\n",
       "      <td>360.0</td>\n",
       "      <td>1.0</td>\n",
       "      <td>Urban</td>\n",
       "      <td>Y</td>\n",
       "    </tr>\n",
       "    <tr>\n",
       "      <th>612</th>\n",
       "      <td>LP002984</td>\n",
       "      <td>Male</td>\n",
       "      <td>Yes</td>\n",
       "      <td>2</td>\n",
       "      <td>Graduate</td>\n",
       "      <td>No</td>\n",
       "      <td>7583</td>\n",
       "      <td>0.0</td>\n",
       "      <td>187.0</td>\n",
       "      <td>360.0</td>\n",
       "      <td>1.0</td>\n",
       "      <td>Urban</td>\n",
       "      <td>Y</td>\n",
       "    </tr>\n",
       "    <tr>\n",
       "      <th>613</th>\n",
       "      <td>LP002990</td>\n",
       "      <td>Female</td>\n",
       "      <td>No</td>\n",
       "      <td>0</td>\n",
       "      <td>Graduate</td>\n",
       "      <td>Yes</td>\n",
       "      <td>4583</td>\n",
       "      <td>0.0</td>\n",
       "      <td>133.0</td>\n",
       "      <td>360.0</td>\n",
       "      <td>0.0</td>\n",
       "      <td>Semiurban</td>\n",
       "      <td>N</td>\n",
       "    </tr>\n",
       "  </tbody>\n",
       "</table>\n",
       "<p>614 rows × 13 columns</p>\n",
       "</div>"
      ],
      "text/plain": [
       "      Loan_ID  Gender Married Dependents     Education Self_Employed  \\\n",
       "0    LP001002    Male      No          0      Graduate            No   \n",
       "1    LP001003    Male     Yes          1      Graduate            No   \n",
       "2    LP001005    Male     Yes          0      Graduate           Yes   \n",
       "3    LP001006    Male     Yes          0  Not Graduate            No   \n",
       "4    LP001008    Male      No          0      Graduate            No   \n",
       "..        ...     ...     ...        ...           ...           ...   \n",
       "609  LP002978  Female      No          0      Graduate            No   \n",
       "610  LP002979    Male     Yes         3+      Graduate            No   \n",
       "611  LP002983    Male     Yes          1      Graduate            No   \n",
       "612  LP002984    Male     Yes          2      Graduate            No   \n",
       "613  LP002990  Female      No          0      Graduate           Yes   \n",
       "\n",
       "     ApplicantIncome  CoapplicantIncome  LoanAmount  Loan_Amount_Term  \\\n",
       "0               5849                0.0         NaN             360.0   \n",
       "1               4583             1508.0       128.0             360.0   \n",
       "2               3000                0.0        66.0             360.0   \n",
       "3               2583             2358.0       120.0             360.0   \n",
       "4               6000                0.0       141.0             360.0   \n",
       "..               ...                ...         ...               ...   \n",
       "609             2900                0.0        71.0             360.0   \n",
       "610             4106                0.0        40.0             180.0   \n",
       "611             8072              240.0       253.0             360.0   \n",
       "612             7583                0.0       187.0             360.0   \n",
       "613             4583                0.0       133.0             360.0   \n",
       "\n",
       "     Credit_History Property_Area Loan_Status  \n",
       "0               1.0         Urban           Y  \n",
       "1               1.0         Rural           N  \n",
       "2               1.0         Urban           Y  \n",
       "3               1.0         Urban           Y  \n",
       "4               1.0         Urban           Y  \n",
       "..              ...           ...         ...  \n",
       "609             1.0         Rural           Y  \n",
       "610             1.0         Rural           Y  \n",
       "611             1.0         Urban           Y  \n",
       "612             1.0         Urban           Y  \n",
       "613             0.0     Semiurban           N  \n",
       "\n",
       "[614 rows x 13 columns]"
      ]
     },
     "execution_count": 2,
     "metadata": {},
     "output_type": "execute_result"
    }
   ],
   "source": [
    "#reading csv and storing it in df\n",
    "#using double slash because of unicode error\n",
    "df=pd.read_csv(\"https://raw.githubusercontent.com/dsrscientist/DSData/master/loan_prediction.csv\")\n",
    "df"
   ]
  },
  {
   "cell_type": "markdown",
   "id": "a49ce36e",
   "metadata": {},
   "source": [
    "\n",
    "#### dropping loan id as its for identificaton purpose"
   ]
  },
  {
   "cell_type": "code",
   "execution_count": 3,
   "id": "ac1aa31b",
   "metadata": {},
   "outputs": [
    {
     "data": {
      "text/html": [
       "<div>\n",
       "<style scoped>\n",
       "    .dataframe tbody tr th:only-of-type {\n",
       "        vertical-align: middle;\n",
       "    }\n",
       "\n",
       "    .dataframe tbody tr th {\n",
       "        vertical-align: top;\n",
       "    }\n",
       "\n",
       "    .dataframe thead th {\n",
       "        text-align: right;\n",
       "    }\n",
       "</style>\n",
       "<table border=\"1\" class=\"dataframe\">\n",
       "  <thead>\n",
       "    <tr style=\"text-align: right;\">\n",
       "      <th></th>\n",
       "      <th>Gender</th>\n",
       "      <th>Married</th>\n",
       "      <th>Dependents</th>\n",
       "      <th>Education</th>\n",
       "      <th>Self_Employed</th>\n",
       "      <th>ApplicantIncome</th>\n",
       "      <th>CoapplicantIncome</th>\n",
       "      <th>LoanAmount</th>\n",
       "      <th>Loan_Amount_Term</th>\n",
       "      <th>Credit_History</th>\n",
       "      <th>Property_Area</th>\n",
       "      <th>Loan_Status</th>\n",
       "    </tr>\n",
       "  </thead>\n",
       "  <tbody>\n",
       "    <tr>\n",
       "      <th>0</th>\n",
       "      <td>Male</td>\n",
       "      <td>No</td>\n",
       "      <td>0</td>\n",
       "      <td>Graduate</td>\n",
       "      <td>No</td>\n",
       "      <td>5849</td>\n",
       "      <td>0.0</td>\n",
       "      <td>NaN</td>\n",
       "      <td>360.0</td>\n",
       "      <td>1.0</td>\n",
       "      <td>Urban</td>\n",
       "      <td>Y</td>\n",
       "    </tr>\n",
       "    <tr>\n",
       "      <th>1</th>\n",
       "      <td>Male</td>\n",
       "      <td>Yes</td>\n",
       "      <td>1</td>\n",
       "      <td>Graduate</td>\n",
       "      <td>No</td>\n",
       "      <td>4583</td>\n",
       "      <td>1508.0</td>\n",
       "      <td>128.0</td>\n",
       "      <td>360.0</td>\n",
       "      <td>1.0</td>\n",
       "      <td>Rural</td>\n",
       "      <td>N</td>\n",
       "    </tr>\n",
       "    <tr>\n",
       "      <th>2</th>\n",
       "      <td>Male</td>\n",
       "      <td>Yes</td>\n",
       "      <td>0</td>\n",
       "      <td>Graduate</td>\n",
       "      <td>Yes</td>\n",
       "      <td>3000</td>\n",
       "      <td>0.0</td>\n",
       "      <td>66.0</td>\n",
       "      <td>360.0</td>\n",
       "      <td>1.0</td>\n",
       "      <td>Urban</td>\n",
       "      <td>Y</td>\n",
       "    </tr>\n",
       "    <tr>\n",
       "      <th>3</th>\n",
       "      <td>Male</td>\n",
       "      <td>Yes</td>\n",
       "      <td>0</td>\n",
       "      <td>Not Graduate</td>\n",
       "      <td>No</td>\n",
       "      <td>2583</td>\n",
       "      <td>2358.0</td>\n",
       "      <td>120.0</td>\n",
       "      <td>360.0</td>\n",
       "      <td>1.0</td>\n",
       "      <td>Urban</td>\n",
       "      <td>Y</td>\n",
       "    </tr>\n",
       "    <tr>\n",
       "      <th>4</th>\n",
       "      <td>Male</td>\n",
       "      <td>No</td>\n",
       "      <td>0</td>\n",
       "      <td>Graduate</td>\n",
       "      <td>No</td>\n",
       "      <td>6000</td>\n",
       "      <td>0.0</td>\n",
       "      <td>141.0</td>\n",
       "      <td>360.0</td>\n",
       "      <td>1.0</td>\n",
       "      <td>Urban</td>\n",
       "      <td>Y</td>\n",
       "    </tr>\n",
       "    <tr>\n",
       "      <th>...</th>\n",
       "      <td>...</td>\n",
       "      <td>...</td>\n",
       "      <td>...</td>\n",
       "      <td>...</td>\n",
       "      <td>...</td>\n",
       "      <td>...</td>\n",
       "      <td>...</td>\n",
       "      <td>...</td>\n",
       "      <td>...</td>\n",
       "      <td>...</td>\n",
       "      <td>...</td>\n",
       "      <td>...</td>\n",
       "    </tr>\n",
       "    <tr>\n",
       "      <th>609</th>\n",
       "      <td>Female</td>\n",
       "      <td>No</td>\n",
       "      <td>0</td>\n",
       "      <td>Graduate</td>\n",
       "      <td>No</td>\n",
       "      <td>2900</td>\n",
       "      <td>0.0</td>\n",
       "      <td>71.0</td>\n",
       "      <td>360.0</td>\n",
       "      <td>1.0</td>\n",
       "      <td>Rural</td>\n",
       "      <td>Y</td>\n",
       "    </tr>\n",
       "    <tr>\n",
       "      <th>610</th>\n",
       "      <td>Male</td>\n",
       "      <td>Yes</td>\n",
       "      <td>3+</td>\n",
       "      <td>Graduate</td>\n",
       "      <td>No</td>\n",
       "      <td>4106</td>\n",
       "      <td>0.0</td>\n",
       "      <td>40.0</td>\n",
       "      <td>180.0</td>\n",
       "      <td>1.0</td>\n",
       "      <td>Rural</td>\n",
       "      <td>Y</td>\n",
       "    </tr>\n",
       "    <tr>\n",
       "      <th>611</th>\n",
       "      <td>Male</td>\n",
       "      <td>Yes</td>\n",
       "      <td>1</td>\n",
       "      <td>Graduate</td>\n",
       "      <td>No</td>\n",
       "      <td>8072</td>\n",
       "      <td>240.0</td>\n",
       "      <td>253.0</td>\n",
       "      <td>360.0</td>\n",
       "      <td>1.0</td>\n",
       "      <td>Urban</td>\n",
       "      <td>Y</td>\n",
       "    </tr>\n",
       "    <tr>\n",
       "      <th>612</th>\n",
       "      <td>Male</td>\n",
       "      <td>Yes</td>\n",
       "      <td>2</td>\n",
       "      <td>Graduate</td>\n",
       "      <td>No</td>\n",
       "      <td>7583</td>\n",
       "      <td>0.0</td>\n",
       "      <td>187.0</td>\n",
       "      <td>360.0</td>\n",
       "      <td>1.0</td>\n",
       "      <td>Urban</td>\n",
       "      <td>Y</td>\n",
       "    </tr>\n",
       "    <tr>\n",
       "      <th>613</th>\n",
       "      <td>Female</td>\n",
       "      <td>No</td>\n",
       "      <td>0</td>\n",
       "      <td>Graduate</td>\n",
       "      <td>Yes</td>\n",
       "      <td>4583</td>\n",
       "      <td>0.0</td>\n",
       "      <td>133.0</td>\n",
       "      <td>360.0</td>\n",
       "      <td>0.0</td>\n",
       "      <td>Semiurban</td>\n",
       "      <td>N</td>\n",
       "    </tr>\n",
       "  </tbody>\n",
       "</table>\n",
       "<p>614 rows × 12 columns</p>\n",
       "</div>"
      ],
      "text/plain": [
       "     Gender Married Dependents     Education Self_Employed  ApplicantIncome  \\\n",
       "0      Male      No          0      Graduate            No             5849   \n",
       "1      Male     Yes          1      Graduate            No             4583   \n",
       "2      Male     Yes          0      Graduate           Yes             3000   \n",
       "3      Male     Yes          0  Not Graduate            No             2583   \n",
       "4      Male      No          0      Graduate            No             6000   \n",
       "..      ...     ...        ...           ...           ...              ...   \n",
       "609  Female      No          0      Graduate            No             2900   \n",
       "610    Male     Yes         3+      Graduate            No             4106   \n",
       "611    Male     Yes          1      Graduate            No             8072   \n",
       "612    Male     Yes          2      Graduate            No             7583   \n",
       "613  Female      No          0      Graduate           Yes             4583   \n",
       "\n",
       "     CoapplicantIncome  LoanAmount  Loan_Amount_Term  Credit_History  \\\n",
       "0                  0.0         NaN             360.0             1.0   \n",
       "1               1508.0       128.0             360.0             1.0   \n",
       "2                  0.0        66.0             360.0             1.0   \n",
       "3               2358.0       120.0             360.0             1.0   \n",
       "4                  0.0       141.0             360.0             1.0   \n",
       "..                 ...         ...               ...             ...   \n",
       "609                0.0        71.0             360.0             1.0   \n",
       "610                0.0        40.0             180.0             1.0   \n",
       "611              240.0       253.0             360.0             1.0   \n",
       "612                0.0       187.0             360.0             1.0   \n",
       "613                0.0       133.0             360.0             0.0   \n",
       "\n",
       "    Property_Area Loan_Status  \n",
       "0           Urban           Y  \n",
       "1           Rural           N  \n",
       "2           Urban           Y  \n",
       "3           Urban           Y  \n",
       "4           Urban           Y  \n",
       "..            ...         ...  \n",
       "609         Rural           Y  \n",
       "610         Rural           Y  \n",
       "611         Urban           Y  \n",
       "612         Urban           Y  \n",
       "613     Semiurban           N  \n",
       "\n",
       "[614 rows x 12 columns]"
      ]
     },
     "execution_count": 3,
     "metadata": {},
     "output_type": "execute_result"
    }
   ],
   "source": [
    "df.drop(['Loan_ID'],axis=1,inplace=True)\n",
    "df"
   ]
  },
  {
   "cell_type": "markdown",
   "id": "c96d0f09",
   "metadata": {},
   "source": [
    "#### check for duplicates"
   ]
  },
  {
   "cell_type": "code",
   "execution_count": 4,
   "id": "0c485c94",
   "metadata": {},
   "outputs": [
    {
     "data": {
      "text/plain": [
       "0"
      ]
     },
     "execution_count": 4,
     "metadata": {},
     "output_type": "execute_result"
    }
   ],
   "source": [
    "df.duplicated().sum()"
   ]
  },
  {
   "cell_type": "markdown",
   "id": "0cd7ab15",
   "metadata": {},
   "source": [
    "no duplicates are present"
   ]
  },
  {
   "cell_type": "markdown",
   "id": "63645aa8",
   "metadata": {},
   "source": [
    "#### checking datatype"
   ]
  },
  {
   "cell_type": "code",
   "execution_count": 5,
   "id": "9ad121a4",
   "metadata": {},
   "outputs": [
    {
     "name": "stdout",
     "output_type": "stream",
     "text": [
      "<class 'pandas.core.frame.DataFrame'>\n",
      "RangeIndex: 614 entries, 0 to 613\n",
      "Data columns (total 12 columns):\n",
      " #   Column             Non-Null Count  Dtype  \n",
      "---  ------             --------------  -----  \n",
      " 0   Gender             601 non-null    object \n",
      " 1   Married            611 non-null    object \n",
      " 2   Dependents         599 non-null    object \n",
      " 3   Education          614 non-null    object \n",
      " 4   Self_Employed      582 non-null    object \n",
      " 5   ApplicantIncome    614 non-null    int64  \n",
      " 6   CoapplicantIncome  614 non-null    float64\n",
      " 7   LoanAmount         592 non-null    float64\n",
      " 8   Loan_Amount_Term   600 non-null    float64\n",
      " 9   Credit_History     564 non-null    float64\n",
      " 10  Property_Area      614 non-null    object \n",
      " 11  Loan_Status        614 non-null    object \n",
      "dtypes: float64(4), int64(1), object(7)\n",
      "memory usage: 57.7+ KB\n"
     ]
    }
   ],
   "source": [
    "df.info()"
   ]
  },
  {
   "cell_type": "markdown",
   "id": "25fa4682",
   "metadata": {},
   "source": [
    "combination of numerical and object data type"
   ]
  },
  {
   "cell_type": "markdown",
   "id": "f7a41c8d",
   "metadata": {},
   "source": [
    "#### Checking for unique values in each columns"
   ]
  },
  {
   "cell_type": "code",
   "execution_count": 6,
   "id": "ea486216",
   "metadata": {},
   "outputs": [
    {
     "data": {
      "text/plain": [
       "Gender                 2\n",
       "Married                2\n",
       "Dependents             4\n",
       "Education              2\n",
       "Self_Employed          2\n",
       "ApplicantIncome      505\n",
       "CoapplicantIncome    287\n",
       "LoanAmount           203\n",
       "Loan_Amount_Term      10\n",
       "Credit_History         2\n",
       "Property_Area          3\n",
       "Loan_Status            2\n",
       "dtype: int64"
      ]
     },
     "execution_count": 6,
     "metadata": {},
     "output_type": "execute_result"
    }
   ],
   "source": [
    "df.nunique()"
   ]
  },
  {
   "cell_type": "markdown",
   "id": "fdc6c418",
   "metadata": {},
   "source": [
    "#### checking for nulls"
   ]
  },
  {
   "cell_type": "code",
   "execution_count": 7,
   "id": "d12c1303",
   "metadata": {},
   "outputs": [
    {
     "data": {
      "text/plain": [
       "149"
      ]
     },
     "execution_count": 7,
     "metadata": {},
     "output_type": "execute_result"
    }
   ],
   "source": [
    "df.isnull().sum().sum()"
   ]
  },
  {
   "cell_type": "markdown",
   "id": "8d679799",
   "metadata": {},
   "source": [
    "nulls are present"
   ]
  },
  {
   "cell_type": "code",
   "execution_count": 8,
   "id": "b88bbeda",
   "metadata": {},
   "outputs": [
    {
     "data": {
      "text/plain": [
       "Gender               13\n",
       "Married               3\n",
       "Dependents           15\n",
       "Education             0\n",
       "Self_Employed        32\n",
       "ApplicantIncome       0\n",
       "CoapplicantIncome     0\n",
       "LoanAmount           22\n",
       "Loan_Amount_Term     14\n",
       "Credit_History       50\n",
       "Property_Area         0\n",
       "Loan_Status           0\n",
       "dtype: int64"
      ]
     },
     "execution_count": 8,
     "metadata": {},
     "output_type": "execute_result"
    }
   ],
   "source": [
    "df.isnull().sum()"
   ]
  },
  {
   "cell_type": "markdown",
   "id": "5a8d20b7",
   "metadata": {},
   "source": [
    "- nulls present in \n",
    "    - Gender \n",
    "    - Married\n",
    "    - Dependents\n",
    "    - Self_Employed\n",
    "    - LoanAmount\n",
    "    - Loan_Amount_Term\n",
    "    - Credit_History       "
   ]
  },
  {
   "cell_type": "markdown",
   "id": "cdc7d1d3",
   "metadata": {},
   "source": [
    "#### Imputation"
   ]
  },
  {
   "cell_type": "markdown",
   "id": "69a6028e",
   "metadata": {},
   "source": [
    "- Gender\n",
    "    - as it takes two values male or female \n",
    "    -  replacing null value by mode value"
   ]
  },
  {
   "cell_type": "code",
   "execution_count": 9,
   "id": "1adef78c",
   "metadata": {},
   "outputs": [
    {
     "data": {
      "text/plain": [
       "Male      489\n",
       "Female    112\n",
       "Name: Gender, dtype: int64"
      ]
     },
     "execution_count": 9,
     "metadata": {},
     "output_type": "execute_result"
    }
   ],
   "source": [
    "df['Gender'].value_counts()"
   ]
  },
  {
   "cell_type": "code",
   "execution_count": 10,
   "id": "f770def0",
   "metadata": {},
   "outputs": [],
   "source": [
    "# all null values replaced by value male\n",
    "df[\"Gender\"] = df[\"Gender\"].fillna(df[\"Gender\"].mode()[0])"
   ]
  },
  {
   "cell_type": "code",
   "execution_count": 11,
   "id": "7b7454c9",
   "metadata": {},
   "outputs": [
    {
     "data": {
      "text/plain": [
       "0"
      ]
     },
     "execution_count": 11,
     "metadata": {},
     "output_type": "execute_result"
    }
   ],
   "source": [
    "#check\n",
    "df['Gender'].isna().sum()"
   ]
  },
  {
   "cell_type": "markdown",
   "id": "8b233c53",
   "metadata": {},
   "source": [
    "- Married\n",
    "    - as it takes two values yes or no \n",
    "    - replacing null value by mode value"
   ]
  },
  {
   "cell_type": "code",
   "execution_count": 12,
   "id": "b8103aae",
   "metadata": {},
   "outputs": [
    {
     "data": {
      "text/plain": [
       "Yes    398\n",
       "No     213\n",
       "Name: Married, dtype: int64"
      ]
     },
     "execution_count": 12,
     "metadata": {},
     "output_type": "execute_result"
    }
   ],
   "source": [
    "df['Married'].value_counts()"
   ]
  },
  {
   "cell_type": "code",
   "execution_count": 13,
   "id": "91a5f265",
   "metadata": {},
   "outputs": [],
   "source": [
    "# all null values replaced by value yes\n",
    "df[\"Married\"] = df[\"Married\"].fillna(df[\"Married\"].mode()[0])"
   ]
  },
  {
   "cell_type": "code",
   "execution_count": 14,
   "id": "4a5467ec",
   "metadata": {},
   "outputs": [
    {
     "data": {
      "text/plain": [
       "0"
      ]
     },
     "execution_count": 14,
     "metadata": {},
     "output_type": "execute_result"
    }
   ],
   "source": [
    "#check\n",
    "df['Married'].isna().sum()"
   ]
  },
  {
   "cell_type": "markdown",
   "id": "d51666df",
   "metadata": {},
   "source": [
    "- Dependents\n",
    "    - takes three values 1, 2 or 3+\n",
    "    - replacing null value by mode value"
   ]
  },
  {
   "cell_type": "code",
   "execution_count": 15,
   "id": "b6f68813",
   "metadata": {},
   "outputs": [
    {
     "data": {
      "text/plain": [
       "0     345\n",
       "1     102\n",
       "2     101\n",
       "3+     51\n",
       "Name: Dependents, dtype: int64"
      ]
     },
     "execution_count": 15,
     "metadata": {},
     "output_type": "execute_result"
    }
   ],
   "source": [
    "df['Dependents'].value_counts()"
   ]
  },
  {
   "cell_type": "code",
   "execution_count": 16,
   "id": "759af947",
   "metadata": {},
   "outputs": [],
   "source": [
    "# all null values replaced by value 0\n",
    "df[\"Dependents\"] = df[\"Dependents\"].fillna(df[\"Dependents\"].mode()[0])"
   ]
  },
  {
   "cell_type": "code",
   "execution_count": 17,
   "id": "b90a3e2b",
   "metadata": {},
   "outputs": [
    {
     "data": {
      "text/plain": [
       "0"
      ]
     },
     "execution_count": 17,
     "metadata": {},
     "output_type": "execute_result"
    }
   ],
   "source": [
    "#check\n",
    "df['Married'].isna().sum()"
   ]
  },
  {
   "cell_type": "markdown",
   "id": "49974753",
   "metadata": {},
   "source": [
    "- Self_Employed\n",
    "    - takes two values yes or no\n",
    "    - replacing null value by mode value"
   ]
  },
  {
   "cell_type": "code",
   "execution_count": 18,
   "id": "9617676d",
   "metadata": {},
   "outputs": [
    {
     "data": {
      "text/plain": [
       "No     500\n",
       "Yes     82\n",
       "Name: Self_Employed, dtype: int64"
      ]
     },
     "execution_count": 18,
     "metadata": {},
     "output_type": "execute_result"
    }
   ],
   "source": [
    "df['Self_Employed'].value_counts()"
   ]
  },
  {
   "cell_type": "code",
   "execution_count": 19,
   "id": "0faff427",
   "metadata": {},
   "outputs": [],
   "source": [
    "# all null values replaced by value yes\n",
    "df[\"Self_Employed\"] = df[\"Self_Employed\"].fillna(df[\"Self_Employed\"].mode()[0])"
   ]
  },
  {
   "cell_type": "code",
   "execution_count": 20,
   "id": "85723f45",
   "metadata": {},
   "outputs": [
    {
     "data": {
      "text/plain": [
       "0"
      ]
     },
     "execution_count": 20,
     "metadata": {},
     "output_type": "execute_result"
    }
   ],
   "source": [
    "#check\n",
    "df['Self_Employed'].isna().sum()"
   ]
  },
  {
   "cell_type": "markdown",
   "id": "40b0fab8",
   "metadata": {},
   "source": [
    "- LoanAmount           \n",
    "    - is continous data\n",
    "    - using mean to fill the null datas"
   ]
  },
  {
   "cell_type": "code",
   "execution_count": 21,
   "id": "ac0d96b0",
   "metadata": {},
   "outputs": [
    {
     "data": {
      "text/plain": [
       "146.41216216216216"
      ]
     },
     "execution_count": 21,
     "metadata": {},
     "output_type": "execute_result"
    }
   ],
   "source": [
    "#finding the mean \n",
    "df['LoanAmount'].mean()"
   ]
  },
  {
   "cell_type": "code",
   "execution_count": 22,
   "id": "0c8ac869",
   "metadata": {},
   "outputs": [
    {
     "data": {
      "text/plain": [
       "0"
      ]
     },
     "execution_count": 22,
     "metadata": {},
     "output_type": "execute_result"
    }
   ],
   "source": [
    "# all null values replaced by value yes\n",
    "df[\"LoanAmount\"] = df[\"LoanAmount\"].fillna(df[\"LoanAmount\"].mean())\n",
    "\n",
    "#check\n",
    "df['LoanAmount'].isna().sum()"
   ]
  },
  {
   "cell_type": "markdown",
   "id": "1f7904ec",
   "metadata": {},
   "source": [
    "- Loan_Amount_Term      \n",
    "    - is continous data\n",
    "    - using mean to fill the null datas"
   ]
  },
  {
   "cell_type": "code",
   "execution_count": 23,
   "id": "2355364b",
   "metadata": {},
   "outputs": [
    {
     "data": {
      "text/html": [
       "<div>\n",
       "<style scoped>\n",
       "    .dataframe tbody tr th:only-of-type {\n",
       "        vertical-align: middle;\n",
       "    }\n",
       "\n",
       "    .dataframe tbody tr th {\n",
       "        vertical-align: top;\n",
       "    }\n",
       "\n",
       "    .dataframe thead th {\n",
       "        text-align: right;\n",
       "    }\n",
       "</style>\n",
       "<table border=\"1\" class=\"dataframe\">\n",
       "  <thead>\n",
       "    <tr style=\"text-align: right;\">\n",
       "      <th></th>\n",
       "      <th>Loan_Amount_Term</th>\n",
       "    </tr>\n",
       "    <tr>\n",
       "      <th>LoanAmount</th>\n",
       "      <th></th>\n",
       "    </tr>\n",
       "  </thead>\n",
       "  <tbody>\n",
       "    <tr>\n",
       "      <th>9.0</th>\n",
       "      <td>360.0</td>\n",
       "    </tr>\n",
       "    <tr>\n",
       "      <th>17.0</th>\n",
       "      <td>120.0</td>\n",
       "    </tr>\n",
       "    <tr>\n",
       "      <th>25.0</th>\n",
       "      <td>120.0</td>\n",
       "    </tr>\n",
       "    <tr>\n",
       "      <th>26.0</th>\n",
       "      <td>360.0</td>\n",
       "    </tr>\n",
       "    <tr>\n",
       "      <th>30.0</th>\n",
       "      <td>360.0</td>\n",
       "    </tr>\n",
       "    <tr>\n",
       "      <th>...</th>\n",
       "      <td>...</td>\n",
       "    </tr>\n",
       "    <tr>\n",
       "      <th>500.0</th>\n",
       "      <td>360.0</td>\n",
       "    </tr>\n",
       "    <tr>\n",
       "      <th>570.0</th>\n",
       "      <td>360.0</td>\n",
       "    </tr>\n",
       "    <tr>\n",
       "      <th>600.0</th>\n",
       "      <td>180.0</td>\n",
       "    </tr>\n",
       "    <tr>\n",
       "      <th>650.0</th>\n",
       "      <td>480.0</td>\n",
       "    </tr>\n",
       "    <tr>\n",
       "      <th>700.0</th>\n",
       "      <td>300.0</td>\n",
       "    </tr>\n",
       "  </tbody>\n",
       "</table>\n",
       "<p>204 rows × 1 columns</p>\n",
       "</div>"
      ],
      "text/plain": [
       "            Loan_Amount_Term\n",
       "LoanAmount                  \n",
       "9.0                    360.0\n",
       "17.0                   120.0\n",
       "25.0                   120.0\n",
       "26.0                   360.0\n",
       "30.0                   360.0\n",
       "...                      ...\n",
       "500.0                  360.0\n",
       "570.0                  360.0\n",
       "600.0                  180.0\n",
       "650.0                  480.0\n",
       "700.0                  300.0\n",
       "\n",
       "[204 rows x 1 columns]"
      ]
     },
     "execution_count": 23,
     "metadata": {},
     "output_type": "execute_result"
    }
   ],
   "source": [
    "outlet_size_modes=df.groupby([\"LoanAmount\"]).agg({\"Loan_Amount_Term\":lambda x: x.value_counts().index[0]})\n",
    "outlet_size_modes"
   ]
  },
  {
   "cell_type": "code",
   "execution_count": 24,
   "id": "d69f8212",
   "metadata": {},
   "outputs": [],
   "source": [
    "for index in outlet_size_modes.index:\n",
    "    pos=df.loc[df[\"LoanAmount\"]==index,[\"Loan_Amount_Term\"]].isnull()\n",
    "    for index_2 in pos.index:\n",
    "        if pos.loc[index_2][0]==True:\n",
    "            df.loc[index_2,[\"Loan_Amount_Term\"]]=outlet_size_modes.loc[index][0]"
   ]
  },
  {
   "cell_type": "code",
   "execution_count": 25,
   "id": "3dabe176",
   "metadata": {},
   "outputs": [
    {
     "data": {
      "text/plain": [
       "0"
      ]
     },
     "execution_count": 25,
     "metadata": {},
     "output_type": "execute_result"
    }
   ],
   "source": [
    "#check\n",
    "df['Loan_Amount_Term'].isna().sum()"
   ]
  },
  {
   "cell_type": "markdown",
   "id": "7e7701e1",
   "metadata": {},
   "source": [
    "- Credit_History\n",
    "    - takes two value 0 or 1 \n",
    "    - flling nulls with mode value"
   ]
  },
  {
   "cell_type": "code",
   "execution_count": 26,
   "id": "dee2fb5a",
   "metadata": {},
   "outputs": [
    {
     "data": {
      "text/plain": [
       "0    1.0\n",
       "dtype: float64"
      ]
     },
     "execution_count": 26,
     "metadata": {},
     "output_type": "execute_result"
    }
   ],
   "source": [
    "#finding the mode value\n",
    "df['Credit_History'].mode()"
   ]
  },
  {
   "cell_type": "code",
   "execution_count": 27,
   "id": "fa38d972",
   "metadata": {},
   "outputs": [
    {
     "data": {
      "text/plain": [
       "0"
      ]
     },
     "execution_count": 27,
     "metadata": {},
     "output_type": "execute_result"
    }
   ],
   "source": [
    "# all null values replaced by value yes\n",
    "df[\"Credit_History\"] = df[\"Credit_History\"].fillna(df[\"Credit_History\"].mode()[0])\n",
    "\n",
    "#check\n",
    "df['Credit_History'].isna().sum()"
   ]
  },
  {
   "cell_type": "markdown",
   "id": "5e9c94c3",
   "metadata": {},
   "source": [
    "#### seperating numerical and categorical data type"
   ]
  },
  {
   "cell_type": "code",
   "execution_count": 28,
   "id": "d409f28a",
   "metadata": {},
   "outputs": [
    {
     "name": "stdout",
     "output_type": "stream",
     "text": [
      "The numerical columns are: Index(['ApplicantIncome', 'CoapplicantIncome', 'LoanAmount',\n",
      "       'Loan_Amount_Term', 'Credit_History'],\n",
      "      dtype='object')\n",
      "\n",
      "\n",
      "The categorical columns are: Index(['Gender', 'Married', 'Dependents', 'Education', 'Self_Employed',\n",
      "       'Property_Area', 'Loan_Status'],\n",
      "      dtype='object')\n"
     ]
    }
   ],
   "source": [
    "numericalCol=df.select_dtypes(include=np.number).columns\n",
    "print(\"The numerical columns are:\",numericalCol)\n",
    "print('\\n')\n",
    "objectColumns=df.select_dtypes(include=np.object).columns\n",
    "print(\"The categorical columns are:\",objectColumns)"
   ]
  },
  {
   "cell_type": "markdown",
   "id": "afd294b4",
   "metadata": {},
   "source": [
    "#### seperating numerical columns into two categories discrete and continuous"
   ]
  },
  {
   "cell_type": "code",
   "execution_count": 29,
   "id": "a11d90ad",
   "metadata": {},
   "outputs": [
    {
     "name": "stdout",
     "output_type": "stream",
     "text": [
      "The discrete columns are: ['Loan_Amount_Term', 'Credit_History']\n",
      "\n",
      "\n",
      "The continuous columns are: ['ApplicantIncome', 'CoapplicantIncome', 'LoanAmount']\n"
     ]
    }
   ],
   "source": [
    "discretecols=[]\n",
    "continuecols=[]\n",
    "\n",
    "for column in numericalCol:\n",
    "     if df[column].nunique()>50:\n",
    "        continuecols.append(column)\n",
    "     \n",
    "     else:\n",
    "        discretecols.append(column)\n",
    "        \n",
    "print(\"The discrete columns are:\",discretecols)\n",
    "print('\\n')\n",
    "print(\"The continuous columns are:\",continuecols) "
   ]
  },
  {
   "cell_type": "markdown",
   "id": "cf695e33",
   "metadata": {},
   "source": [
    "\n",
    "#### checking how the data is defined statistically for numerical continuous datas and visualising"
   ]
  },
  {
   "cell_type": "code",
   "execution_count": 30,
   "id": "2220ebe9",
   "metadata": {},
   "outputs": [
    {
     "data": {
      "text/html": [
       "<div>\n",
       "<style scoped>\n",
       "    .dataframe tbody tr th:only-of-type {\n",
       "        vertical-align: middle;\n",
       "    }\n",
       "\n",
       "    .dataframe tbody tr th {\n",
       "        vertical-align: top;\n",
       "    }\n",
       "\n",
       "    .dataframe thead th {\n",
       "        text-align: right;\n",
       "    }\n",
       "</style>\n",
       "<table border=\"1\" class=\"dataframe\">\n",
       "  <thead>\n",
       "    <tr style=\"text-align: right;\">\n",
       "      <th></th>\n",
       "      <th>count</th>\n",
       "      <th>mean</th>\n",
       "      <th>std</th>\n",
       "      <th>min</th>\n",
       "      <th>25%</th>\n",
       "      <th>50%</th>\n",
       "      <th>75%</th>\n",
       "      <th>max</th>\n",
       "    </tr>\n",
       "  </thead>\n",
       "  <tbody>\n",
       "    <tr>\n",
       "      <th>ApplicantIncome</th>\n",
       "      <td>614.0</td>\n",
       "      <td>5403.459283</td>\n",
       "      <td>6109.041673</td>\n",
       "      <td>150.0</td>\n",
       "      <td>2877.50</td>\n",
       "      <td>3812.5</td>\n",
       "      <td>5795.00</td>\n",
       "      <td>81000.0</td>\n",
       "    </tr>\n",
       "    <tr>\n",
       "      <th>CoapplicantIncome</th>\n",
       "      <td>614.0</td>\n",
       "      <td>1621.245798</td>\n",
       "      <td>2926.248369</td>\n",
       "      <td>0.0</td>\n",
       "      <td>0.00</td>\n",
       "      <td>1188.5</td>\n",
       "      <td>2297.25</td>\n",
       "      <td>41667.0</td>\n",
       "    </tr>\n",
       "    <tr>\n",
       "      <th>LoanAmount</th>\n",
       "      <td>614.0</td>\n",
       "      <td>146.412162</td>\n",
       "      <td>84.037468</td>\n",
       "      <td>9.0</td>\n",
       "      <td>100.25</td>\n",
       "      <td>129.0</td>\n",
       "      <td>164.75</td>\n",
       "      <td>700.0</td>\n",
       "    </tr>\n",
       "  </tbody>\n",
       "</table>\n",
       "</div>"
      ],
      "text/plain": [
       "                   count         mean          std    min      25%     50%  \\\n",
       "ApplicantIncome    614.0  5403.459283  6109.041673  150.0  2877.50  3812.5   \n",
       "CoapplicantIncome  614.0  1621.245798  2926.248369    0.0     0.00  1188.5   \n",
       "LoanAmount         614.0   146.412162    84.037468    9.0   100.25   129.0   \n",
       "\n",
       "                       75%      max  \n",
       "ApplicantIncome    5795.00  81000.0  \n",
       "CoapplicantIncome  2297.25  41667.0  \n",
       "LoanAmount          164.75    700.0  "
      ]
     },
     "execution_count": 30,
     "metadata": {},
     "output_type": "execute_result"
    }
   ],
   "source": [
    "df[continuecols].describe().T"
   ]
  },
  {
   "cell_type": "markdown",
   "id": "932fa087",
   "metadata": {},
   "source": [
    "- ApplicantIncome\n",
    "    - mean to std ratio is 0.88 \n",
    "    - the difference between quantile is not uniform\n",
    "\n",
    " \n",
    " \n",
    "- CoapplicantIncome\n",
    "    - mean to std is 0.55\n",
    "    - the difference between quantile is not uniform\n",
    "\n",
    "    \n",
    "    \n",
    "-  LoanAmount\n",
    "    - mean to std is 1.7\n",
    "    - the difference between quantile is not uniform \n",
    "    - concentration of data at the middle\n",
    "    "
   ]
  },
  {
   "cell_type": "code",
   "execution_count": 31,
   "id": "7f570b80",
   "metadata": {},
   "outputs": [
    {
     "data": {
      "image/png": "[encoded data removed]",
      "text/plain": [
       "<Figure size 720x720 with 3 Axes>"
      ]
     },
     "metadata": {
      "needs_background": "light"
     },
     "output_type": "display_data"
    }
   ],
   "source": [
    "# plotting distribution graph \n",
    "j=0\n",
    "plt.figure(figsize=(10,10))\n",
    "for column in df[continuecols]:\n",
    "    plt.subplot(6,2,j+1)\n",
    "    sns.distplot(df[column])\n",
    "    plt.xlabel(column,fontsize=12)\n",
    "    j+=1\n",
    "plt.tight_layout()"
   ]
  },
  {
   "cell_type": "markdown",
   "id": "07e51ec3",
   "metadata": {},
   "source": [
    "- ApplicantIncome\n",
    "    - Most of the applicant income is between 0 to 15000\n",
    "    - Very few applicants have salary between 20000 to 80000\n",
    "    - Positively skewed\n",
    "    \n",
    "    \n",
    "- CoapplicantIncome\n",
    "    - Most of the coapplicant income is inbetween 0 to 8000\n",
    "    - Very few coapplicants have income between 8000 to 40000\n",
    "    - Positively skewed\n",
    "    \n",
    "    \n",
    "- LoanAmount\n",
    "    - Most of the loan amount is between 50 to 200\n",
    "    - Very few loan amount is between 200 to 80\n",
    "    - Positively skewed"
   ]
  },
  {
   "cell_type": "markdown",
   "id": "f1a067ce",
   "metadata": {},
   "source": [
    "#### checking how the data is defined statistically for numerical discrete datas and visualising"
   ]
  },
  {
   "cell_type": "code",
   "execution_count": 32,
   "id": "e44fcc9e",
   "metadata": {},
   "outputs": [
    {
     "data": {
      "text/html": [
       "<div>\n",
       "<style scoped>\n",
       "    .dataframe tbody tr th:only-of-type {\n",
       "        vertical-align: middle;\n",
       "    }\n",
       "\n",
       "    .dataframe tbody tr th {\n",
       "        vertical-align: top;\n",
       "    }\n",
       "\n",
       "    .dataframe thead th {\n",
       "        text-align: right;\n",
       "    }\n",
       "</style>\n",
       "<table border=\"1\" class=\"dataframe\">\n",
       "  <thead>\n",
       "    <tr style=\"text-align: right;\">\n",
       "      <th></th>\n",
       "      <th>count</th>\n",
       "      <th>mean</th>\n",
       "      <th>std</th>\n",
       "      <th>min</th>\n",
       "      <th>25%</th>\n",
       "      <th>50%</th>\n",
       "      <th>75%</th>\n",
       "      <th>max</th>\n",
       "    </tr>\n",
       "  </thead>\n",
       "  <tbody>\n",
       "    <tr>\n",
       "      <th>Loan_Amount_Term</th>\n",
       "      <td>614.0</td>\n",
       "      <td>342.410423</td>\n",
       "      <td>64.428629</td>\n",
       "      <td>12.0</td>\n",
       "      <td>360.0</td>\n",
       "      <td>360.0</td>\n",
       "      <td>360.0</td>\n",
       "      <td>480.0</td>\n",
       "    </tr>\n",
       "    <tr>\n",
       "      <th>Credit_History</th>\n",
       "      <td>614.0</td>\n",
       "      <td>0.855049</td>\n",
       "      <td>0.352339</td>\n",
       "      <td>0.0</td>\n",
       "      <td>1.0</td>\n",
       "      <td>1.0</td>\n",
       "      <td>1.0</td>\n",
       "      <td>1.0</td>\n",
       "    </tr>\n",
       "  </tbody>\n",
       "</table>\n",
       "</div>"
      ],
      "text/plain": [
       "                  count        mean        std   min    25%    50%    75%  \\\n",
       "Loan_Amount_Term  614.0  342.410423  64.428629  12.0  360.0  360.0  360.0   \n",
       "Credit_History    614.0    0.855049   0.352339   0.0    1.0    1.0    1.0   \n",
       "\n",
       "                    max  \n",
       "Loan_Amount_Term  480.0  \n",
       "Credit_History      1.0  "
      ]
     },
     "execution_count": 32,
     "metadata": {},
     "output_type": "execute_result"
    }
   ],
   "source": [
    "df[discretecols].describe().T"
   ]
  },
  {
   "cell_type": "code",
   "execution_count": 33,
   "id": "5fe97787",
   "metadata": {},
   "outputs": [
    {
     "name": "stdout",
     "output_type": "stream",
     "text": [
      "Loan_Amount_Term\n",
      "360.0    526\n",
      "180.0     44\n",
      "480.0     15\n",
      "300.0     13\n",
      "240.0      4\n",
      "84.0       4\n",
      "120.0      3\n",
      "60.0       2\n",
      "36.0       2\n",
      "12.0       1\n",
      "Name: Loan_Amount_Term, dtype: int64\n"
     ]
    },
    {
     "data": {
      "image/png": "[encoded data removed]",
      "text/plain": [
       "<Figure size 1080x360 with 1 Axes>"
      ]
     },
     "metadata": {
      "needs_background": "light"
     },
     "output_type": "display_data"
    },
    {
     "name": "stdout",
     "output_type": "stream",
     "text": [
      "Credit_History\n",
      "1.0    525\n",
      "0.0     89\n",
      "Name: Credit_History, dtype: int64\n"
     ]
    },
    {
     "data": {
      "image/png": "[encoded data removed]",
      "text/plain": [
       "<Figure size 1080x360 with 1 Axes>"
      ]
     },
     "metadata": {
      "needs_background": "light"
     },
     "output_type": "display_data"
    }
   ],
   "source": [
    " #listing all Categorical data and plotting \n",
    "for x in discretecols:\n",
    "    print(x)\n",
    "    print(df[x].value_counts())\n",
    "    plt.figure(figsize=(15,5))\n",
    "    col_name = x\n",
    "    values = df[x].value_counts()\n",
    "    index = 0\n",
    "    ax = sns.countplot(df[x])\n",
    "\n",
    "    for i in ax.patches:\n",
    "        h = i.get_height() #Count of each value\n",
    "        t = len(df[col_name]) # Total no of records using length\n",
    "        s = f\"{h}\\n({round(h*100/t,2)}%)\" #Displaying in count bar\n",
    "        plt.text(index, h/2, s, ha=\"center\", fontweight=\"bold\")\n",
    "        index += 1\n",
    "    \n",
    "    plt.title(f\"Count Plot for {x}\\n\")\n",
    "    plt.xlabel(x)\n",
    "    plt.ylabel(f\"Count\")\n",
    "    plt.show()"
   ]
  },
  {
   "cell_type": "markdown",
   "id": "affd9d29",
   "metadata": {},
   "source": [
    "- Loan_Amount_Term\n",
    "    - most of the people opt for loan term of 360\n",
    "    \n",
    "    \n",
    "- Credit_History\n",
    "    - most of the people have credit history 1"
   ]
  },
  {
   "cell_type": "markdown",
   "id": "ad9f039d",
   "metadata": {},
   "source": [
    "#### checking how the data is defined statistically for categorical datas`and visualising"
   ]
  },
  {
   "cell_type": "code",
   "execution_count": 34,
   "id": "1ab865c9",
   "metadata": {},
   "outputs": [
    {
     "data": {
      "text/html": [
       "<div>\n",
       "<style scoped>\n",
       "    .dataframe tbody tr th:only-of-type {\n",
       "        vertical-align: middle;\n",
       "    }\n",
       "\n",
       "    .dataframe tbody tr th {\n",
       "        vertical-align: top;\n",
       "    }\n",
       "\n",
       "    .dataframe thead th {\n",
       "        text-align: right;\n",
       "    }\n",
       "</style>\n",
       "<table border=\"1\" class=\"dataframe\">\n",
       "  <thead>\n",
       "    <tr style=\"text-align: right;\">\n",
       "      <th></th>\n",
       "      <th>Gender</th>\n",
       "      <th>Married</th>\n",
       "      <th>Dependents</th>\n",
       "      <th>Education</th>\n",
       "      <th>Self_Employed</th>\n",
       "      <th>Property_Area</th>\n",
       "      <th>Loan_Status</th>\n",
       "    </tr>\n",
       "  </thead>\n",
       "  <tbody>\n",
       "    <tr>\n",
       "      <th>count</th>\n",
       "      <td>614</td>\n",
       "      <td>614</td>\n",
       "      <td>614</td>\n",
       "      <td>614</td>\n",
       "      <td>614</td>\n",
       "      <td>614</td>\n",
       "      <td>614</td>\n",
       "    </tr>\n",
       "    <tr>\n",
       "      <th>unique</th>\n",
       "      <td>2</td>\n",
       "      <td>2</td>\n",
       "      <td>4</td>\n",
       "      <td>2</td>\n",
       "      <td>2</td>\n",
       "      <td>3</td>\n",
       "      <td>2</td>\n",
       "    </tr>\n",
       "    <tr>\n",
       "      <th>top</th>\n",
       "      <td>Male</td>\n",
       "      <td>Yes</td>\n",
       "      <td>0</td>\n",
       "      <td>Graduate</td>\n",
       "      <td>No</td>\n",
       "      <td>Semiurban</td>\n",
       "      <td>Y</td>\n",
       "    </tr>\n",
       "    <tr>\n",
       "      <th>freq</th>\n",
       "      <td>502</td>\n",
       "      <td>401</td>\n",
       "      <td>360</td>\n",
       "      <td>480</td>\n",
       "      <td>532</td>\n",
       "      <td>233</td>\n",
       "      <td>422</td>\n",
       "    </tr>\n",
       "  </tbody>\n",
       "</table>\n",
       "</div>"
      ],
      "text/plain": [
       "       Gender Married Dependents Education Self_Employed Property_Area  \\\n",
       "count     614     614        614       614           614           614   \n",
       "unique      2       2          4         2             2             3   \n",
       "top      Male     Yes          0  Graduate            No     Semiurban   \n",
       "freq      502     401        360       480           532           233   \n",
       "\n",
       "       Loan_Status  \n",
       "count          614  \n",
       "unique           2  \n",
       "top              Y  \n",
       "freq           422  "
      ]
     },
     "execution_count": 34,
     "metadata": {},
     "output_type": "execute_result"
    }
   ],
   "source": [
    "df[objectColumns].describe(include=['O'])"
   ]
  },
  {
   "cell_type": "code",
   "execution_count": 35,
   "id": "d85c7d8c",
   "metadata": {},
   "outputs": [
    {
     "data": {
      "image/png": "[encoded data removed]",
      "text/plain": [
       "<Figure size 1080x2160 with 7 Axes>"
      ]
     },
     "metadata": {
      "needs_background": "light"
     },
     "output_type": "display_data"
    }
   ],
   "source": [
    "# plotting countplot graph \n",
    "j=0\n",
    "plt.figure(figsize=(15,30))\n",
    "for column in df[objectColumns]:\n",
    "    plt.subplot(10,2,j+1)\n",
    "    ax =sns.countplot(df[column], hue=df['Loan_Status'])\n",
    "    ax.bar_label(ax.containers[0]);\n",
    "    ax.bar_label(ax.containers[1]);\n",
    "    plt.xlabel(column,fontsize=12)\n",
    "    j+=1\n",
    "plt.tight_layout()"
   ]
  },
  {
   "cell_type": "markdown",
   "id": "1e88fccb",
   "metadata": {},
   "source": [
    "- Gender\n",
    "    - count wise males has more chance in getting loan approved\n",
    "    - when we compared loan acceptance for a male to get loan its 69% (obtained as male(yes)/total of male ) and for female its 66% (obtained as female(yes)/total of female)\n",
    "    \n",
    "\n",
    "- Married    \n",
    "    - Married people get more loan approved\n",
    "    - chance for a married person to get loan approved is 68.4% and for not marries is 62.9%    \n",
    "    \n",
    "    \n",
    "- Dependents\n",
    "    - Dependents 0 has the most no. of loan approved\n",
    "    - Dependents 2 has the most chance of getting approval followed by Dependesnt 0\n",
    "\n",
    "    \n",
    "-   Education\n",
    "    - Graduates has most of loan approved\n",
    "    - Graducates has more chance of getting loan approved\n",
    "\n",
    "    \n",
    "- Self_Employed\n",
    "    - poeple who are not self employeed has most loan approved\n",
    "    - chance of getting loan approved is same for both cases\n",
    "    \n",
    "\n",
    "- Property_Area\n",
    "    - people in semi_urban area has most loan approved\n",
    "    - chance of getting loan approved is more in semi urban areas\n",
    "    \n",
    " \n",
    "- Loan_Status\n",
    "    - the dataset is not balanced n/y ratio is 0.45\n",
    "    - balancing technique should be adopted"
   ]
  },
  {
   "cell_type": "markdown",
   "id": "08ab8d33",
   "metadata": {},
   "source": [
    "#### Bivariate analysis"
   ]
  },
  {
   "cell_type": "code",
   "execution_count": 36,
   "id": "86bf42c4",
   "metadata": {},
   "outputs": [
    {
     "data": {
      "image/png": "[encoded data removed]",
      "text/plain": [
       "<Figure size 1080x1080 with 2 Axes>"
      ]
     },
     "metadata": {
      "needs_background": "light"
     },
     "output_type": "display_data"
    }
   ],
   "source": [
    "j=0\n",
    "\n",
    "plt.figure(figsize=(15,15))\n",
    "for column in df[continuecols[0:2]]:\n",
    "    plt.subplot(6,2,j+1)\n",
    "    sns.scatterplot(data=df,x=column,s=70, y=\"LoanAmount\", hue=\"Loan_Status\")\n",
    "    plt.xlabel(column,fontsize=12)\n",
    "    j+=1\n",
    "plt.tight_layout()"
   ]
  },
  {
   "cell_type": "markdown",
   "id": "2b7afbf8",
   "metadata": {},
   "source": [
    "- most of the applicants have income of 5000 and take a loan amount of 200\n",
    "- most of the coapplicants income is zero irrespectve of the loan amount, there are cases where coapplicant make income from 50 to 5000"
   ]
  },
  {
   "cell_type": "code",
   "execution_count": 37,
   "id": "683b500e",
   "metadata": {},
   "outputs": [
    {
     "data": {
      "image/png": "[encoded data removed]",
      "text/plain": [
       "<Figure size 432x288 with 1 Axes>"
      ]
     },
     "metadata": {
      "needs_background": "light"
     },
     "output_type": "display_data"
    }
   ],
   "source": [
    "sns.scatterplot(data=df,y='ApplicantIncome',s=70, x=\"CoapplicantIncome\", hue=\"Gender\")\n",
    "plt.show()"
   ]
  },
  {
   "cell_type": "markdown",
   "id": "6b9a1e11",
   "metadata": {},
   "source": [
    "- males income is more than female "
   ]
  },
  {
   "cell_type": "code",
   "execution_count": 38,
   "id": "942b7c9a",
   "metadata": {},
   "outputs": [
    {
     "data": {
      "image/png": "[encoded data removed]",
      "text/plain": [
       "<Figure size 1080x720 with 1 Axes>"
      ]
     },
     "metadata": {
      "needs_background": "light"
     },
     "output_type": "display_data"
    }
   ],
   "source": [
    "plt.figure(figsize=(15,10))\n",
    "ax=sns.barplot(data=df,x='Loan_Amount_Term', y=\"LoanAmount\", hue=\"Gender\")\n",
    "ax.bar_label(ax.containers[0]);\n",
    "ax.bar_label(ax.containers[1]);\n",
    "plt.show()"
   ]
  },
  {
   "cell_type": "markdown",
   "id": "f520a9c1",
   "metadata": {},
   "source": [
    "- for loan term of 36 and 180 female are allowed to borrow more than male \n",
    "- female can borrow a larger amount than male, but for term of 36, 180 and 240 "
   ]
  },
  {
   "cell_type": "code",
   "execution_count": 40,
   "id": "2aac71a1",
   "metadata": {},
   "outputs": [
    {
     "data": {
      "image/png": "[encoded data removed]",
      "text/plain": [
       "<Figure size 1080x1440 with 2 Axes>"
      ]
     },
     "metadata": {
      "needs_background": "light"
     },
     "output_type": "display_data"
    }
   ],
   "source": [
    "j=0\n",
    "plt.figure(figsize=(15,20))\n",
    "for column in df[discretecols]:\n",
    "    plt.subplot(6,1,j+1)\n",
    "    ax=sns.barplot(data=df,x=column, y=\"LoanAmount\", hue=\"Loan_Status\")\n",
    "    ax.bar_label(ax.containers[0]);\n",
    "    ax.bar_label(ax.containers[1]);\n",
    "    plt.xlabel(column,fontsize=12)\n",
    "    j+=1\n",
    "plt.tight_layout()"
   ]
  },
  {
   "cell_type": "markdown",
   "id": "a02a377b",
   "metadata": {},
   "source": [
    "- loan amount term\n",
    "    - for terms of 12, 60, 120 has loan status approved\n",
    "    - for term of 36 has loan status dis-approved\n",
    "    - highest avg loan amount is 230.625 for a term of 300\n",
    "    - highest avg loan amount rejected is 205 for a term of 240\n",
    "    \n",
    "- Credit_History\n",
    "    - loan amount is higher for those belonging in to credit history 0 \n",
    "    - loan amount approved for 1 is less, so the avg amount for customers to take loan is 143.305, any greater amount would result in rejection of loan application "
   ]
  },
  {
   "cell_type": "code",
   "execution_count": 41,
   "id": "d8230f35",
   "metadata": {},
   "outputs": [
    {
     "data": {
      "image/png": "[encoded data removed]",
      "text/plain": [
       "<Figure size 1080x1440 with 6 Axes>"
      ]
     },
     "metadata": {
      "needs_background": "light"
     },
     "output_type": "display_data"
    }
   ],
   "source": [
    "j=0\n",
    "plt.figure(figsize=(15,20))\n",
    "for column in df[objectColumns[0:6]]:\n",
    "    plt.subplot(6,2,j+1)\n",
    "    ax=sns.barplot(data=df,x=column, y=\"LoanAmount\", hue=\"Loan_Status\")\n",
    "    ax.bar_label(ax.containers[0]);\n",
    "    ax.bar_label(ax.containers[1]);\n",
    "    plt.xlabel(column,fontsize=12)\n",
    "    j+=1\n",
    "plt.tight_layout()"
   ]
  },
  {
   "cell_type": "markdown",
   "id": "1e12f90c",
   "metadata": {},
   "source": [
    "- Gender \n",
    "    - males are allowed to borrow loan amount than female, becasue the income of males is more than female\n",
    "    \n",
    "    \n",
    "- Married\n",
    "    - Married people are allowed to borrow more loan amount compared to singles\n",
    "    \n",
    "    \n",
    "- Dependents \n",
    "    - as the no of dependents increases the loan amount which can be borrowed increases\n",
    "    \n",
    "    \n",
    "- Education \n",
    "    - Graduates are allowed to borrow more amount than non-graduates\n",
    "    \n",
    "    \n",
    "- Self Employed\n",
    "    - self employed people are allowed to borrow more loan amount\n",
    "    \n",
    "    \n",
    "    \n",
    "- Propert_Area\n",
    "    - People who live in Rural areas can borrrow more ammount than those who reside in urban followed by semi urban areas"
   ]
  },
  {
   "cell_type": "markdown",
   "id": "808aa378",
   "metadata": {},
   "source": [
    "#### check skewness"
   ]
  },
  {
   "cell_type": "code",
   "execution_count": 49,
   "id": "79c7bff7",
   "metadata": {},
   "outputs": [
    {
     "data": {
      "text/plain": [
       "LoanAmount           2.726601\n",
       "ApplicantIncome      6.539513\n",
       "CoapplicantIncome    7.491531\n",
       "dtype: float64"
      ]
     },
     "execution_count": 49,
     "metadata": {},
     "output_type": "execute_result"
    }
   ],
   "source": [
    "df.skew()[continuecols].sort_values()"
   ]
  },
  {
   "cell_type": "markdown",
   "id": "a1f047e6",
   "metadata": {},
   "source": [
    "skewness is not within limits"
   ]
  },
  {
   "cell_type": "markdown",
   "id": "8a85a8c4",
   "metadata": {},
   "source": [
    "#### using power transform to transform the datas\n"
   ]
  },
  {
   "cell_type": "code",
   "execution_count": 50,
   "id": "195a9d1a",
   "metadata": {},
   "outputs": [
    {
     "data": {
      "text/html": [
       "<div>\n",
       "<style scoped>\n",
       "    .dataframe tbody tr th:only-of-type {\n",
       "        vertical-align: middle;\n",
       "    }\n",
       "\n",
       "    .dataframe tbody tr th {\n",
       "        vertical-align: top;\n",
       "    }\n",
       "\n",
       "    .dataframe thead th {\n",
       "        text-align: right;\n",
       "    }\n",
       "</style>\n",
       "<table border=\"1\" class=\"dataframe\">\n",
       "  <thead>\n",
       "    <tr style=\"text-align: right;\">\n",
       "      <th></th>\n",
       "      <th>Gender</th>\n",
       "      <th>Married</th>\n",
       "      <th>Dependents</th>\n",
       "      <th>Education</th>\n",
       "      <th>Self_Employed</th>\n",
       "      <th>ApplicantIncome</th>\n",
       "      <th>CoapplicantIncome</th>\n",
       "      <th>LoanAmount</th>\n",
       "      <th>Loan_Amount_Term</th>\n",
       "      <th>Credit_History</th>\n",
       "      <th>Property_Area</th>\n",
       "      <th>Loan_Status</th>\n",
       "    </tr>\n",
       "  </thead>\n",
       "  <tbody>\n",
       "    <tr>\n",
       "      <th>0</th>\n",
       "      <td>Male</td>\n",
       "      <td>No</td>\n",
       "      <td>0</td>\n",
       "      <td>Graduate</td>\n",
       "      <td>No</td>\n",
       "      <td>0.544331</td>\n",
       "      <td>-1.102837</td>\n",
       "      <td>0.235387</td>\n",
       "      <td>360.0</td>\n",
       "      <td>1.0</td>\n",
       "      <td>Urban</td>\n",
       "      <td>Y</td>\n",
       "    </tr>\n",
       "    <tr>\n",
       "      <th>1</th>\n",
       "      <td>Male</td>\n",
       "      <td>Yes</td>\n",
       "      <td>1</td>\n",
       "      <td>Graduate</td>\n",
       "      <td>No</td>\n",
       "      <td>0.170974</td>\n",
       "      <td>0.750578</td>\n",
       "      <td>-0.037659</td>\n",
       "      <td>360.0</td>\n",
       "      <td>1.0</td>\n",
       "      <td>Rural</td>\n",
       "      <td>N</td>\n",
       "    </tr>\n",
       "    <tr>\n",
       "      <th>2</th>\n",
       "      <td>Male</td>\n",
       "      <td>Yes</td>\n",
       "      <td>0</td>\n",
       "      <td>Graduate</td>\n",
       "      <td>Yes</td>\n",
       "      <td>-0.499955</td>\n",
       "      <td>-1.102837</td>\n",
       "      <td>-1.346305</td>\n",
       "      <td>360.0</td>\n",
       "      <td>1.0</td>\n",
       "      <td>Urban</td>\n",
       "      <td>Y</td>\n",
       "    </tr>\n",
       "    <tr>\n",
       "      <th>3</th>\n",
       "      <td>Male</td>\n",
       "      <td>Yes</td>\n",
       "      <td>0</td>\n",
       "      <td>Not Graduate</td>\n",
       "      <td>No</td>\n",
       "      <td>-0.743873</td>\n",
       "      <td>0.891686</td>\n",
       "      <td>-0.167886</td>\n",
       "      <td>360.0</td>\n",
       "      <td>1.0</td>\n",
       "      <td>Urban</td>\n",
       "      <td>Y</td>\n",
       "    </tr>\n",
       "    <tr>\n",
       "      <th>4</th>\n",
       "      <td>Male</td>\n",
       "      <td>No</td>\n",
       "      <td>0</td>\n",
       "      <td>Graduate</td>\n",
       "      <td>No</td>\n",
       "      <td>0.582817</td>\n",
       "      <td>-1.102837</td>\n",
       "      <td>0.158610</td>\n",
       "      <td>360.0</td>\n",
       "      <td>1.0</td>\n",
       "      <td>Urban</td>\n",
       "      <td>Y</td>\n",
       "    </tr>\n",
       "    <tr>\n",
       "      <th>...</th>\n",
       "      <td>...</td>\n",
       "      <td>...</td>\n",
       "      <td>...</td>\n",
       "      <td>...</td>\n",
       "      <td>...</td>\n",
       "      <td>...</td>\n",
       "      <td>...</td>\n",
       "      <td>...</td>\n",
       "      <td>...</td>\n",
       "      <td>...</td>\n",
       "      <td>...</td>\n",
       "      <td>...</td>\n",
       "    </tr>\n",
       "    <tr>\n",
       "      <th>609</th>\n",
       "      <td>Female</td>\n",
       "      <td>No</td>\n",
       "      <td>0</td>\n",
       "      <td>Graduate</td>\n",
       "      <td>No</td>\n",
       "      <td>-0.554885</td>\n",
       "      <td>-1.102837</td>\n",
       "      <td>-1.205100</td>\n",
       "      <td>360.0</td>\n",
       "      <td>1.0</td>\n",
       "      <td>Rural</td>\n",
       "      <td>Y</td>\n",
       "    </tr>\n",
       "    <tr>\n",
       "      <th>610</th>\n",
       "      <td>Male</td>\n",
       "      <td>Yes</td>\n",
       "      <td>3+</td>\n",
       "      <td>Graduate</td>\n",
       "      <td>No</td>\n",
       "      <td>-0.000290</td>\n",
       "      <td>-1.102837</td>\n",
       "      <td>-2.293317</td>\n",
       "      <td>180.0</td>\n",
       "      <td>1.0</td>\n",
       "      <td>Rural</td>\n",
       "      <td>Y</td>\n",
       "    </tr>\n",
       "    <tr>\n",
       "      <th>611</th>\n",
       "      <td>Male</td>\n",
       "      <td>Yes</td>\n",
       "      <td>1</td>\n",
       "      <td>Graduate</td>\n",
       "      <td>No</td>\n",
       "      <td>1.023487</td>\n",
       "      <td>0.208603</td>\n",
       "      <td>1.372409</td>\n",
       "      <td>360.0</td>\n",
       "      <td>1.0</td>\n",
       "      <td>Urban</td>\n",
       "      <td>Y</td>\n",
       "    </tr>\n",
       "    <tr>\n",
       "      <th>612</th>\n",
       "      <td>Male</td>\n",
       "      <td>Yes</td>\n",
       "      <td>2</td>\n",
       "      <td>Graduate</td>\n",
       "      <td>No</td>\n",
       "      <td>0.931750</td>\n",
       "      <td>-1.102837</td>\n",
       "      <td>0.738924</td>\n",
       "      <td>360.0</td>\n",
       "      <td>1.0</td>\n",
       "      <td>Urban</td>\n",
       "      <td>Y</td>\n",
       "    </tr>\n",
       "    <tr>\n",
       "      <th>613</th>\n",
       "      <td>Female</td>\n",
       "      <td>No</td>\n",
       "      <td>0</td>\n",
       "      <td>Graduate</td>\n",
       "      <td>Yes</td>\n",
       "      <td>0.170974</td>\n",
       "      <td>-1.102837</td>\n",
       "      <td>0.039936</td>\n",
       "      <td>360.0</td>\n",
       "      <td>0.0</td>\n",
       "      <td>Semiurban</td>\n",
       "      <td>N</td>\n",
       "    </tr>\n",
       "  </tbody>\n",
       "</table>\n",
       "<p>614 rows × 12 columns</p>\n",
       "</div>"
      ],
      "text/plain": [
       "     Gender Married Dependents     Education Self_Employed  ApplicantIncome  \\\n",
       "0      Male      No          0      Graduate            No         0.544331   \n",
       "1      Male     Yes          1      Graduate            No         0.170974   \n",
       "2      Male     Yes          0      Graduate           Yes        -0.499955   \n",
       "3      Male     Yes          0  Not Graduate            No        -0.743873   \n",
       "4      Male      No          0      Graduate            No         0.582817   \n",
       "..      ...     ...        ...           ...           ...              ...   \n",
       "609  Female      No          0      Graduate            No        -0.554885   \n",
       "610    Male     Yes         3+      Graduate            No        -0.000290   \n",
       "611    Male     Yes          1      Graduate            No         1.023487   \n",
       "612    Male     Yes          2      Graduate            No         0.931750   \n",
       "613  Female      No          0      Graduate           Yes         0.170974   \n",
       "\n",
       "     CoapplicantIncome  LoanAmount  Loan_Amount_Term  Credit_History  \\\n",
       "0            -1.102837    0.235387             360.0             1.0   \n",
       "1             0.750578   -0.037659             360.0             1.0   \n",
       "2            -1.102837   -1.346305             360.0             1.0   \n",
       "3             0.891686   -0.167886             360.0             1.0   \n",
       "4            -1.102837    0.158610             360.0             1.0   \n",
       "..                 ...         ...               ...             ...   \n",
       "609          -1.102837   -1.205100             360.0             1.0   \n",
       "610          -1.102837   -2.293317             180.0             1.0   \n",
       "611           0.208603    1.372409             360.0             1.0   \n",
       "612          -1.102837    0.738924             360.0             1.0   \n",
       "613          -1.102837    0.039936             360.0             0.0   \n",
       "\n",
       "    Property_Area Loan_Status  \n",
       "0           Urban           Y  \n",
       "1           Rural           N  \n",
       "2           Urban           Y  \n",
       "3           Urban           Y  \n",
       "4           Urban           Y  \n",
       "..            ...         ...  \n",
       "609         Rural           Y  \n",
       "610         Rural           Y  \n",
       "611         Urban           Y  \n",
       "612         Urban           Y  \n",
       "613     Semiurban           N  \n",
       "\n",
       "[614 rows x 12 columns]"
      ]
     },
     "execution_count": 50,
     "metadata": {},
     "output_type": "execute_result"
    }
   ],
   "source": [
    "#using power transform to transform and normalize the dataset and storing it in A and copying it to df\n",
    "from sklearn.preprocessing import power_transform\n",
    "B=df[continuecols].copy()\n",
    "A=power_transform(B)\n",
    "A=pd.DataFrame(A,columns=B.columns)\n",
    "df[B.columns]=A.copy()\n",
    "df"
   ]
  },
  {
   "cell_type": "code",
   "execution_count": 51,
   "id": "059acf06",
   "metadata": {},
   "outputs": [
    {
     "data": {
      "text/plain": [
       "CoapplicantIncome   -0.145646\n",
       "ApplicantIncome     -0.092946\n",
       "LoanAmount           0.024376\n",
       "dtype: float64"
      ]
     },
     "execution_count": 51,
     "metadata": {},
     "output_type": "execute_result"
    }
   ],
   "source": [
    "df.skew()[continuecols].sort_values()"
   ]
  },
  {
   "cell_type": "markdown",
   "id": "8914b927",
   "metadata": {},
   "source": [
    "skewness is within limits 0.65 to -0.65"
   ]
  },
  {
   "cell_type": "markdown",
   "id": "b7a80d11",
   "metadata": {},
   "source": [
    "#### Encoding"
   ]
  },
  {
   "cell_type": "code",
   "execution_count": 52,
   "id": "d4e8fb3a",
   "metadata": {},
   "outputs": [
    {
     "data": {
      "text/plain": [
       "array([1, 0], dtype=int64)"
      ]
     },
     "execution_count": 52,
     "metadata": {},
     "output_type": "execute_result"
    }
   ],
   "source": [
    "l_s={'Y':1,'N':0}\n",
    "df['Loan_Status'] = df['Loan_Status'].map(l_s)\n",
    "df['Loan_Status'].unique()"
   ]
  },
  {
   "cell_type": "code",
   "execution_count": 53,
   "id": "833c2cd4",
   "metadata": {},
   "outputs": [],
   "source": [
    "objcol=['Gender', 'Married', 'Dependents', 'Education', 'Self_Employed', 'Property_Area']"
   ]
  },
  {
   "cell_type": "code",
   "execution_count": 54,
   "id": "52c357f2",
   "metadata": {},
   "outputs": [
    {
     "data": {
      "text/html": [
       "<div>\n",
       "<style scoped>\n",
       "    .dataframe tbody tr th:only-of-type {\n",
       "        vertical-align: middle;\n",
       "    }\n",
       "\n",
       "    .dataframe tbody tr th {\n",
       "        vertical-align: top;\n",
       "    }\n",
       "\n",
       "    .dataframe thead th {\n",
       "        text-align: right;\n",
       "    }\n",
       "</style>\n",
       "<table border=\"1\" class=\"dataframe\">\n",
       "  <thead>\n",
       "    <tr style=\"text-align: right;\">\n",
       "      <th></th>\n",
       "      <th>ApplicantIncome</th>\n",
       "      <th>CoapplicantIncome</th>\n",
       "      <th>LoanAmount</th>\n",
       "      <th>Loan_Amount_Term</th>\n",
       "      <th>Credit_History</th>\n",
       "      <th>Loan_Status</th>\n",
       "      <th>Gender_Male</th>\n",
       "      <th>Married_Yes</th>\n",
       "      <th>Dependents_1</th>\n",
       "      <th>Dependents_2</th>\n",
       "      <th>Dependents_3+</th>\n",
       "      <th>Education_Not Graduate</th>\n",
       "      <th>Self_Employed_Yes</th>\n",
       "      <th>Property_Area_Semiurban</th>\n",
       "      <th>Property_Area_Urban</th>\n",
       "    </tr>\n",
       "  </thead>\n",
       "  <tbody>\n",
       "    <tr>\n",
       "      <th>0</th>\n",
       "      <td>0.544331</td>\n",
       "      <td>-1.102837</td>\n",
       "      <td>0.235387</td>\n",
       "      <td>360.0</td>\n",
       "      <td>1.0</td>\n",
       "      <td>1</td>\n",
       "      <td>1</td>\n",
       "      <td>0</td>\n",
       "      <td>0</td>\n",
       "      <td>0</td>\n",
       "      <td>0</td>\n",
       "      <td>0</td>\n",
       "      <td>0</td>\n",
       "      <td>0</td>\n",
       "      <td>1</td>\n",
       "    </tr>\n",
       "    <tr>\n",
       "      <th>1</th>\n",
       "      <td>0.170974</td>\n",
       "      <td>0.750578</td>\n",
       "      <td>-0.037659</td>\n",
       "      <td>360.0</td>\n",
       "      <td>1.0</td>\n",
       "      <td>0</td>\n",
       "      <td>1</td>\n",
       "      <td>1</td>\n",
       "      <td>1</td>\n",
       "      <td>0</td>\n",
       "      <td>0</td>\n",
       "      <td>0</td>\n",
       "      <td>0</td>\n",
       "      <td>0</td>\n",
       "      <td>0</td>\n",
       "    </tr>\n",
       "    <tr>\n",
       "      <th>2</th>\n",
       "      <td>-0.499955</td>\n",
       "      <td>-1.102837</td>\n",
       "      <td>-1.346305</td>\n",
       "      <td>360.0</td>\n",
       "      <td>1.0</td>\n",
       "      <td>1</td>\n",
       "      <td>1</td>\n",
       "      <td>1</td>\n",
       "      <td>0</td>\n",
       "      <td>0</td>\n",
       "      <td>0</td>\n",
       "      <td>0</td>\n",
       "      <td>1</td>\n",
       "      <td>0</td>\n",
       "      <td>1</td>\n",
       "    </tr>\n",
       "    <tr>\n",
       "      <th>3</th>\n",
       "      <td>-0.743873</td>\n",
       "      <td>0.891686</td>\n",
       "      <td>-0.167886</td>\n",
       "      <td>360.0</td>\n",
       "      <td>1.0</td>\n",
       "      <td>1</td>\n",
       "      <td>1</td>\n",
       "      <td>1</td>\n",
       "      <td>0</td>\n",
       "      <td>0</td>\n",
       "      <td>0</td>\n",
       "      <td>1</td>\n",
       "      <td>0</td>\n",
       "      <td>0</td>\n",
       "      <td>1</td>\n",
       "    </tr>\n",
       "    <tr>\n",
       "      <th>4</th>\n",
       "      <td>0.582817</td>\n",
       "      <td>-1.102837</td>\n",
       "      <td>0.158610</td>\n",
       "      <td>360.0</td>\n",
       "      <td>1.0</td>\n",
       "      <td>1</td>\n",
       "      <td>1</td>\n",
       "      <td>0</td>\n",
       "      <td>0</td>\n",
       "      <td>0</td>\n",
       "      <td>0</td>\n",
       "      <td>0</td>\n",
       "      <td>0</td>\n",
       "      <td>0</td>\n",
       "      <td>1</td>\n",
       "    </tr>\n",
       "    <tr>\n",
       "      <th>...</th>\n",
       "      <td>...</td>\n",
       "      <td>...</td>\n",
       "      <td>...</td>\n",
       "      <td>...</td>\n",
       "      <td>...</td>\n",
       "      <td>...</td>\n",
       "      <td>...</td>\n",
       "      <td>...</td>\n",
       "      <td>...</td>\n",
       "      <td>...</td>\n",
       "      <td>...</td>\n",
       "      <td>...</td>\n",
       "      <td>...</td>\n",
       "      <td>...</td>\n",
       "      <td>...</td>\n",
       "    </tr>\n",
       "    <tr>\n",
       "      <th>609</th>\n",
       "      <td>-0.554885</td>\n",
       "      <td>-1.102837</td>\n",
       "      <td>-1.205100</td>\n",
       "      <td>360.0</td>\n",
       "      <td>1.0</td>\n",
       "      <td>1</td>\n",
       "      <td>0</td>\n",
       "      <td>0</td>\n",
       "      <td>0</td>\n",
       "      <td>0</td>\n",
       "      <td>0</td>\n",
       "      <td>0</td>\n",
       "      <td>0</td>\n",
       "      <td>0</td>\n",
       "      <td>0</td>\n",
       "    </tr>\n",
       "    <tr>\n",
       "      <th>610</th>\n",
       "      <td>-0.000290</td>\n",
       "      <td>-1.102837</td>\n",
       "      <td>-2.293317</td>\n",
       "      <td>180.0</td>\n",
       "      <td>1.0</td>\n",
       "      <td>1</td>\n",
       "      <td>1</td>\n",
       "      <td>1</td>\n",
       "      <td>0</td>\n",
       "      <td>0</td>\n",
       "      <td>1</td>\n",
       "      <td>0</td>\n",
       "      <td>0</td>\n",
       "      <td>0</td>\n",
       "      <td>0</td>\n",
       "    </tr>\n",
       "    <tr>\n",
       "      <th>611</th>\n",
       "      <td>1.023487</td>\n",
       "      <td>0.208603</td>\n",
       "      <td>1.372409</td>\n",
       "      <td>360.0</td>\n",
       "      <td>1.0</td>\n",
       "      <td>1</td>\n",
       "      <td>1</td>\n",
       "      <td>1</td>\n",
       "      <td>1</td>\n",
       "      <td>0</td>\n",
       "      <td>0</td>\n",
       "      <td>0</td>\n",
       "      <td>0</td>\n",
       "      <td>0</td>\n",
       "      <td>1</td>\n",
       "    </tr>\n",
       "    <tr>\n",
       "      <th>612</th>\n",
       "      <td>0.931750</td>\n",
       "      <td>-1.102837</td>\n",
       "      <td>0.738924</td>\n",
       "      <td>360.0</td>\n",
       "      <td>1.0</td>\n",
       "      <td>1</td>\n",
       "      <td>1</td>\n",
       "      <td>1</td>\n",
       "      <td>0</td>\n",
       "      <td>1</td>\n",
       "      <td>0</td>\n",
       "      <td>0</td>\n",
       "      <td>0</td>\n",
       "      <td>0</td>\n",
       "      <td>1</td>\n",
       "    </tr>\n",
       "    <tr>\n",
       "      <th>613</th>\n",
       "      <td>0.170974</td>\n",
       "      <td>-1.102837</td>\n",
       "      <td>0.039936</td>\n",
       "      <td>360.0</td>\n",
       "      <td>0.0</td>\n",
       "      <td>0</td>\n",
       "      <td>0</td>\n",
       "      <td>0</td>\n",
       "      <td>0</td>\n",
       "      <td>0</td>\n",
       "      <td>0</td>\n",
       "      <td>0</td>\n",
       "      <td>1</td>\n",
       "      <td>1</td>\n",
       "      <td>0</td>\n",
       "    </tr>\n",
       "  </tbody>\n",
       "</table>\n",
       "<p>614 rows × 15 columns</p>\n",
       "</div>"
      ],
      "text/plain": [
       "     ApplicantIncome  CoapplicantIncome  LoanAmount  Loan_Amount_Term  \\\n",
       "0           0.544331          -1.102837    0.235387             360.0   \n",
       "1           0.170974           0.750578   -0.037659             360.0   \n",
       "2          -0.499955          -1.102837   -1.346305             360.0   \n",
       "3          -0.743873           0.891686   -0.167886             360.0   \n",
       "4           0.582817          -1.102837    0.158610             360.0   \n",
       "..               ...                ...         ...               ...   \n",
       "609        -0.554885          -1.102837   -1.205100             360.0   \n",
       "610        -0.000290          -1.102837   -2.293317             180.0   \n",
       "611         1.023487           0.208603    1.372409             360.0   \n",
       "612         0.931750          -1.102837    0.738924             360.0   \n",
       "613         0.170974          -1.102837    0.039936             360.0   \n",
       "\n",
       "     Credit_History  Loan_Status  Gender_Male  Married_Yes  Dependents_1  \\\n",
       "0               1.0            1            1            0             0   \n",
       "1               1.0            0            1            1             1   \n",
       "2               1.0            1            1            1             0   \n",
       "3               1.0            1            1            1             0   \n",
       "4               1.0            1            1            0             0   \n",
       "..              ...          ...          ...          ...           ...   \n",
       "609             1.0            1            0            0             0   \n",
       "610             1.0            1            1            1             0   \n",
       "611             1.0            1            1            1             1   \n",
       "612             1.0            1            1            1             0   \n",
       "613             0.0            0            0            0             0   \n",
       "\n",
       "     Dependents_2  Dependents_3+  Education_Not Graduate  Self_Employed_Yes  \\\n",
       "0               0              0                       0                  0   \n",
       "1               0              0                       0                  0   \n",
       "2               0              0                       0                  1   \n",
       "3               0              0                       1                  0   \n",
       "4               0              0                       0                  0   \n",
       "..            ...            ...                     ...                ...   \n",
       "609             0              0                       0                  0   \n",
       "610             0              1                       0                  0   \n",
       "611             0              0                       0                  0   \n",
       "612             1              0                       0                  0   \n",
       "613             0              0                       0                  1   \n",
       "\n",
       "     Property_Area_Semiurban  Property_Area_Urban  \n",
       "0                          0                    1  \n",
       "1                          0                    0  \n",
       "2                          0                    1  \n",
       "3                          0                    1  \n",
       "4                          0                    1  \n",
       "..                       ...                  ...  \n",
       "609                        0                    0  \n",
       "610                        0                    0  \n",
       "611                        0                    1  \n",
       "612                        0                    1  \n",
       "613                        1                    0  \n",
       "\n",
       "[614 rows x 15 columns]"
      ]
     },
     "execution_count": 54,
     "metadata": {},
     "output_type": "execute_result"
    }
   ],
   "source": [
    "df=pd.get_dummies(columns=objcol, drop_first = True,data=df)\n",
    "df"
   ]
  },
  {
   "cell_type": "markdown",
   "id": "d43a48ab",
   "metadata": {},
   "source": [
    "#### checking correlation"
   ]
  },
  {
   "cell_type": "code",
   "execution_count": 55,
   "id": "6d33686d",
   "metadata": {},
   "outputs": [],
   "source": [
    "numer=['ApplicantIncome', 'CoapplicantIncome', 'LoanAmount', 'Loan_Amount_Term', 'Credit_History', 'Loan_Status']"
   ]
  },
  {
   "cell_type": "code",
   "execution_count": 56,
   "id": "2645e66c",
   "metadata": {},
   "outputs": [
    {
     "data": {
      "text/plain": [
       "LoanAmount          -0.042494\n",
       "Loan_Amount_Term    -0.022549\n",
       "ApplicantIncome      0.013568\n",
       "CoapplicantIncome    0.056869\n",
       "Credit_History       0.540556\n",
       "Loan_Status          1.000000\n",
       "Name: Loan_Status, dtype: float64"
      ]
     },
     "execution_count": 56,
     "metadata": {},
     "output_type": "execute_result"
    }
   ],
   "source": [
    "df[numer].corr()['Loan_Status'].sort_values()"
   ]
  },
  {
   "cell_type": "markdown",
   "id": "86a11d04",
   "metadata": {},
   "source": [
    "Credit_History has the highest correlation rest all have very small amount of correlation with the target variable"
   ]
  },
  {
   "cell_type": "markdown",
   "id": "59cdfab3",
   "metadata": {},
   "source": [
    "#### plotting heatmap to see the correlation with other feature"
   ]
  },
  {
   "cell_type": "code",
   "execution_count": 57,
   "id": "a69104f0",
   "metadata": {},
   "outputs": [
    {
     "data": {
      "image/png": "[encoded data removed]",
      "text/plain": [
       "<Figure size 1440x720 with 2 Axes>"
      ]
     },
     "metadata": {
      "needs_background": "light"
     },
     "output_type": "display_data"
    }
   ],
   "source": [
    "plt.figure(figsize=(20,10))\n",
    "sns.heatmap(df[numer].corr(),annot=True,cmap=\"YlGnBu\")\n",
    "plt.title(\"Correlation Plot-Heat Map\")\n",
    "plt.show()"
   ]
  },
  {
   "cell_type": "markdown",
   "id": "a3e517f3",
   "metadata": {},
   "source": [
    "- feature to feature highest correlation value is 0.48 with application income and loan amount\n",
    "- coapplication income and application income 0.37\n",
    "- rest feature to feature correlation is very small "
   ]
  },
  {
   "cell_type": "markdown",
   "id": "97d21c28",
   "metadata": {},
   "source": [
    "#### using vif to check for multicolinearity"
   ]
  },
  {
   "cell_type": "code",
   "execution_count": 58,
   "id": "854ec71e",
   "metadata": {},
   "outputs": [
    {
     "data": {
      "text/html": [
       "<div>\n",
       "<style scoped>\n",
       "    .dataframe tbody tr th:only-of-type {\n",
       "        vertical-align: middle;\n",
       "    }\n",
       "\n",
       "    .dataframe tbody tr th {\n",
       "        vertical-align: top;\n",
       "    }\n",
       "\n",
       "    .dataframe thead th {\n",
       "        text-align: right;\n",
       "    }\n",
       "</style>\n",
       "<table border=\"1\" class=\"dataframe\">\n",
       "  <thead>\n",
       "    <tr style=\"text-align: right;\">\n",
       "      <th></th>\n",
       "      <th>vif</th>\n",
       "      <th>features</th>\n",
       "    </tr>\n",
       "  </thead>\n",
       "  <tbody>\n",
       "    <tr>\n",
       "      <th>0</th>\n",
       "      <td>1.755364</td>\n",
       "      <td>ApplicantIncome</td>\n",
       "    </tr>\n",
       "    <tr>\n",
       "      <th>2</th>\n",
       "      <td>1.555185</td>\n",
       "      <td>LoanAmount</td>\n",
       "    </tr>\n",
       "    <tr>\n",
       "      <th>1</th>\n",
       "      <td>1.358754</td>\n",
       "      <td>CoapplicantIncome</td>\n",
       "    </tr>\n",
       "    <tr>\n",
       "      <th>3</th>\n",
       "      <td>1.015003</td>\n",
       "      <td>Loan_Amount_Term</td>\n",
       "    </tr>\n",
       "    <tr>\n",
       "      <th>4</th>\n",
       "      <td>1.001547</td>\n",
       "      <td>Credit_History</td>\n",
       "    </tr>\n",
       "  </tbody>\n",
       "</table>\n",
       "</div>"
      ],
      "text/plain": [
       "        vif           features\n",
       "0  1.755364    ApplicantIncome\n",
       "2  1.555185         LoanAmount\n",
       "1  1.358754  CoapplicantIncome\n",
       "3  1.015003   Loan_Amount_Term\n",
       "4  1.001547     Credit_History"
      ]
     },
     "execution_count": 58,
     "metadata": {},
     "output_type": "execute_result"
    }
   ],
   "source": [
    "from sklearn.preprocessing import StandardScaler\n",
    "sc=StandardScaler()\n",
    "k=df[numer].copy()\n",
    "t=k.drop(['Loan_Status'],axis=1).copy()\n",
    "d=sc.fit_transform(t)\n",
    "from statsmodels.stats.outliers_influence import variance_inflation_factor\n",
    "vif=pd.DataFrame()\n",
    "vif['vif']=[variance_inflation_factor(d, i)for i in range(len(t.columns))]\n",
    "vif['features']=t.columns\n",
    "vif.sort_values(by='vif',ascending=False)"
   ]
  },
  {
   "cell_type": "markdown",
   "id": "dedf4d61",
   "metadata": {},
   "source": [
    "vif is within the limits less than 10"
   ]
  },
  {
   "cell_type": "markdown",
   "id": "860ee15e",
   "metadata": {},
   "source": [
    "#### Outliers check"
   ]
  },
  {
   "cell_type": "code",
   "execution_count": 59,
   "id": "016aa102",
   "metadata": {},
   "outputs": [
    {
     "data": {
      "image/png": "[encoded data removed]",
      "text/plain": [
       "<Figure size 1152x576 with 1 Axes>"
      ]
     },
     "metadata": {
      "needs_background": "light"
     },
     "output_type": "display_data"
    }
   ],
   "source": [
    "# visualizing\n",
    "df[numericalCol].iloc[:,:].boxplot(figsize = (16,8))\n",
    "plt.subplots_adjust(bottom=0.25)\n",
    "plt.show()"
   ]
  },
  {
   "cell_type": "markdown",
   "id": "6cb90361",
   "metadata": {},
   "source": [
    "outliers present "
   ]
  },
  {
   "cell_type": "markdown",
   "id": "34baf285",
   "metadata": {},
   "source": [
    "#### using z score for treating"
   ]
  },
  {
   "cell_type": "code",
   "execution_count": 60,
   "id": "f9c86fd1",
   "metadata": {},
   "outputs": [
    {
     "name": "stdout",
     "output_type": "stream",
     "text": [
      "data loss  4.5602605863192185  %\n"
     ]
    }
   ],
   "source": [
    "from scipy.stats import zscore\n",
    "z=np.abs(zscore(df[numericalCol]))\n",
    "df_x=df[(z<3).all(axis=1)]\n",
    "data_loss=((df.shape[0]-df_x.shape[0])/df.shape[0])*100\n",
    "print(\"data loss \", data_loss, \" %\")"
   ]
  },
  {
   "cell_type": "code",
   "execution_count": 61,
   "id": "8715184c",
   "metadata": {},
   "outputs": [
    {
     "data": {
      "image/png": "[encoded data removed]",
      "text/plain": [
       "<Figure size 1152x576 with 1 Axes>"
      ]
     },
     "metadata": {
      "needs_background": "light"
     },
     "output_type": "display_data"
    }
   ],
   "source": [
    "df_x[numericalCol].iloc[:,:].boxplot(figsize = (16,8))\n",
    "plt.subplots_adjust(bottom=0.25)\n",
    "plt.show()"
   ]
  },
  {
   "cell_type": "markdown",
   "id": "03ea6848",
   "metadata": {},
   "source": [
    "outliers have been reduced to some extend "
   ]
  },
  {
   "cell_type": "markdown",
   "id": "e1777312",
   "metadata": {},
   "source": [
    "#### Splitting dataset"
   ]
  },
  {
   "cell_type": "code",
   "execution_count": 62,
   "id": "34651a54",
   "metadata": {},
   "outputs": [],
   "source": [
    "X_s=df_x.drop(columns=[\"Loan_Status\"])\n",
    "Y_s=df_x[[\"Loan_Status\"]]"
   ]
  },
  {
   "cell_type": "markdown",
   "id": "84330495",
   "metadata": {},
   "source": [
    "#### Using SMOTE to balance target"
   ]
  },
  {
   "cell_type": "code",
   "execution_count": 63,
   "id": "5120ddea",
   "metadata": {},
   "outputs": [],
   "source": [
    "import six\n",
    "import joblib\n",
    "import sys\n",
    "sys.modules['sklearn.externals.six']=six\n",
    "sys.modules['sklearn.externals.joblib']=joblib\n",
    "from imblearn.over_sampling import SMOTE"
   ]
  },
  {
   "cell_type": "code",
   "execution_count": 65,
   "id": "c1e02b01",
   "metadata": {},
   "outputs": [
    {
     "name": "stdout",
     "output_type": "stream",
     "text": [
      "Loan_Status\n",
      "1              402\n",
      "0              184\n",
      "dtype: int64\n"
     ]
    },
    {
     "data": {
      "image/png": "[encoded data removed]",
      "text/plain": [
       "<Figure size 432x288 with 1 Axes>"
      ]
     },
     "metadata": {
      "needs_background": "light"
     },
     "output_type": "display_data"
    }
   ],
   "source": [
    "sns.countplot(Y_s['Loan_Status'])\n",
    "print(Y_s.value_counts())\n",
    "plt.show()"
   ]
  },
  {
   "cell_type": "markdown",
   "id": "2e139abe",
   "metadata": {},
   "source": [
    "ratio of n/y is 0.45"
   ]
  },
  {
   "cell_type": "code",
   "execution_count": 66,
   "id": "01c63a0d",
   "metadata": {},
   "outputs": [
    {
     "data": {
      "text/html": [
       "<div>\n",
       "<style scoped>\n",
       "    .dataframe tbody tr th:only-of-type {\n",
       "        vertical-align: middle;\n",
       "    }\n",
       "\n",
       "    .dataframe tbody tr th {\n",
       "        vertical-align: top;\n",
       "    }\n",
       "\n",
       "    .dataframe thead th {\n",
       "        text-align: right;\n",
       "    }\n",
       "</style>\n",
       "<table border=\"1\" class=\"dataframe\">\n",
       "  <thead>\n",
       "    <tr style=\"text-align: right;\">\n",
       "      <th></th>\n",
       "      <th>ApplicantIncome</th>\n",
       "      <th>CoapplicantIncome</th>\n",
       "      <th>LoanAmount</th>\n",
       "      <th>Loan_Amount_Term</th>\n",
       "      <th>Credit_History</th>\n",
       "      <th>Gender_Male</th>\n",
       "      <th>Married_Yes</th>\n",
       "      <th>Dependents_1</th>\n",
       "      <th>Dependents_2</th>\n",
       "      <th>Dependents_3+</th>\n",
       "      <th>Education_Not Graduate</th>\n",
       "      <th>Self_Employed_Yes</th>\n",
       "      <th>Property_Area_Semiurban</th>\n",
       "      <th>Property_Area_Urban</th>\n",
       "    </tr>\n",
       "  </thead>\n",
       "  <tbody>\n",
       "    <tr>\n",
       "      <th>0</th>\n",
       "      <td>0.544331</td>\n",
       "      <td>-1.102837</td>\n",
       "      <td>0.235387</td>\n",
       "      <td>360.0</td>\n",
       "      <td>1.000000</td>\n",
       "      <td>1</td>\n",
       "      <td>0</td>\n",
       "      <td>0</td>\n",
       "      <td>0</td>\n",
       "      <td>0</td>\n",
       "      <td>0</td>\n",
       "      <td>0</td>\n",
       "      <td>0</td>\n",
       "      <td>1</td>\n",
       "    </tr>\n",
       "    <tr>\n",
       "      <th>1</th>\n",
       "      <td>0.170974</td>\n",
       "      <td>0.750578</td>\n",
       "      <td>-0.037659</td>\n",
       "      <td>360.0</td>\n",
       "      <td>1.000000</td>\n",
       "      <td>1</td>\n",
       "      <td>1</td>\n",
       "      <td>1</td>\n",
       "      <td>0</td>\n",
       "      <td>0</td>\n",
       "      <td>0</td>\n",
       "      <td>0</td>\n",
       "      <td>0</td>\n",
       "      <td>0</td>\n",
       "    </tr>\n",
       "    <tr>\n",
       "      <th>2</th>\n",
       "      <td>-0.499955</td>\n",
       "      <td>-1.102837</td>\n",
       "      <td>-1.346305</td>\n",
       "      <td>360.0</td>\n",
       "      <td>1.000000</td>\n",
       "      <td>1</td>\n",
       "      <td>1</td>\n",
       "      <td>0</td>\n",
       "      <td>0</td>\n",
       "      <td>0</td>\n",
       "      <td>0</td>\n",
       "      <td>1</td>\n",
       "      <td>0</td>\n",
       "      <td>1</td>\n",
       "    </tr>\n",
       "    <tr>\n",
       "      <th>3</th>\n",
       "      <td>-0.743873</td>\n",
       "      <td>0.891686</td>\n",
       "      <td>-0.167886</td>\n",
       "      <td>360.0</td>\n",
       "      <td>1.000000</td>\n",
       "      <td>1</td>\n",
       "      <td>1</td>\n",
       "      <td>0</td>\n",
       "      <td>0</td>\n",
       "      <td>0</td>\n",
       "      <td>1</td>\n",
       "      <td>0</td>\n",
       "      <td>0</td>\n",
       "      <td>1</td>\n",
       "    </tr>\n",
       "    <tr>\n",
       "      <th>4</th>\n",
       "      <td>0.582817</td>\n",
       "      <td>-1.102837</td>\n",
       "      <td>0.158610</td>\n",
       "      <td>360.0</td>\n",
       "      <td>1.000000</td>\n",
       "      <td>1</td>\n",
       "      <td>0</td>\n",
       "      <td>0</td>\n",
       "      <td>0</td>\n",
       "      <td>0</td>\n",
       "      <td>0</td>\n",
       "      <td>0</td>\n",
       "      <td>0</td>\n",
       "      <td>1</td>\n",
       "    </tr>\n",
       "    <tr>\n",
       "      <th>...</th>\n",
       "      <td>...</td>\n",
       "      <td>...</td>\n",
       "      <td>...</td>\n",
       "      <td>...</td>\n",
       "      <td>...</td>\n",
       "      <td>...</td>\n",
       "      <td>...</td>\n",
       "      <td>...</td>\n",
       "      <td>...</td>\n",
       "      <td>...</td>\n",
       "      <td>...</td>\n",
       "      <td>...</td>\n",
       "      <td>...</td>\n",
       "      <td>...</td>\n",
       "    </tr>\n",
       "    <tr>\n",
       "      <th>698</th>\n",
       "      <td>-0.801791</td>\n",
       "      <td>0.975882</td>\n",
       "      <td>-0.092915</td>\n",
       "      <td>360.0</td>\n",
       "      <td>0.000000</td>\n",
       "      <td>1</td>\n",
       "      <td>1</td>\n",
       "      <td>0</td>\n",
       "      <td>0</td>\n",
       "      <td>0</td>\n",
       "      <td>1</td>\n",
       "      <td>0</td>\n",
       "      <td>0</td>\n",
       "      <td>1</td>\n",
       "    </tr>\n",
       "    <tr>\n",
       "      <th>699</th>\n",
       "      <td>0.603661</td>\n",
       "      <td>-1.102837</td>\n",
       "      <td>0.932763</td>\n",
       "      <td>360.0</td>\n",
       "      <td>0.196398</td>\n",
       "      <td>1</td>\n",
       "      <td>1</td>\n",
       "      <td>0</td>\n",
       "      <td>0</td>\n",
       "      <td>0</td>\n",
       "      <td>1</td>\n",
       "      <td>0</td>\n",
       "      <td>0</td>\n",
       "      <td>0</td>\n",
       "    </tr>\n",
       "    <tr>\n",
       "      <th>700</th>\n",
       "      <td>-0.197826</td>\n",
       "      <td>0.857975</td>\n",
       "      <td>-0.149888</td>\n",
       "      <td>360.0</td>\n",
       "      <td>0.000000</td>\n",
       "      <td>1</td>\n",
       "      <td>1</td>\n",
       "      <td>0</td>\n",
       "      <td>0</td>\n",
       "      <td>0</td>\n",
       "      <td>0</td>\n",
       "      <td>0</td>\n",
       "      <td>0</td>\n",
       "      <td>0</td>\n",
       "    </tr>\n",
       "    <tr>\n",
       "      <th>701</th>\n",
       "      <td>1.465726</td>\n",
       "      <td>-1.102837</td>\n",
       "      <td>-0.823989</td>\n",
       "      <td>360.0</td>\n",
       "      <td>0.953297</td>\n",
       "      <td>1</td>\n",
       "      <td>0</td>\n",
       "      <td>0</td>\n",
       "      <td>0</td>\n",
       "      <td>0</td>\n",
       "      <td>0</td>\n",
       "      <td>1</td>\n",
       "      <td>0</td>\n",
       "      <td>1</td>\n",
       "    </tr>\n",
       "    <tr>\n",
       "      <th>702</th>\n",
       "      <td>0.075592</td>\n",
       "      <td>-1.102837</td>\n",
       "      <td>-1.184056</td>\n",
       "      <td>360.0</td>\n",
       "      <td>1.000000</td>\n",
       "      <td>0</td>\n",
       "      <td>0</td>\n",
       "      <td>1</td>\n",
       "      <td>0</td>\n",
       "      <td>0</td>\n",
       "      <td>0</td>\n",
       "      <td>0</td>\n",
       "      <td>1</td>\n",
       "      <td>0</td>\n",
       "    </tr>\n",
       "  </tbody>\n",
       "</table>\n",
       "<p>703 rows × 14 columns</p>\n",
       "</div>"
      ],
      "text/plain": [
       "     ApplicantIncome  CoapplicantIncome  LoanAmount  Loan_Amount_Term  \\\n",
       "0           0.544331          -1.102837    0.235387             360.0   \n",
       "1           0.170974           0.750578   -0.037659             360.0   \n",
       "2          -0.499955          -1.102837   -1.346305             360.0   \n",
       "3          -0.743873           0.891686   -0.167886             360.0   \n",
       "4           0.582817          -1.102837    0.158610             360.0   \n",
       "..               ...                ...         ...               ...   \n",
       "698        -0.801791           0.975882   -0.092915             360.0   \n",
       "699         0.603661          -1.102837    0.932763             360.0   \n",
       "700        -0.197826           0.857975   -0.149888             360.0   \n",
       "701         1.465726          -1.102837   -0.823989             360.0   \n",
       "702         0.075592          -1.102837   -1.184056             360.0   \n",
       "\n",
       "     Credit_History  Gender_Male  Married_Yes  Dependents_1  Dependents_2  \\\n",
       "0          1.000000            1            0             0             0   \n",
       "1          1.000000            1            1             1             0   \n",
       "2          1.000000            1            1             0             0   \n",
       "3          1.000000            1            1             0             0   \n",
       "4          1.000000            1            0             0             0   \n",
       "..              ...          ...          ...           ...           ...   \n",
       "698        0.000000            1            1             0             0   \n",
       "699        0.196398            1            1             0             0   \n",
       "700        0.000000            1            1             0             0   \n",
       "701        0.953297            1            0             0             0   \n",
       "702        1.000000            0            0             1             0   \n",
       "\n",
       "     Dependents_3+  Education_Not Graduate  Self_Employed_Yes  \\\n",
       "0                0                       0                  0   \n",
       "1                0                       0                  0   \n",
       "2                0                       0                  1   \n",
       "3                0                       1                  0   \n",
       "4                0                       0                  0   \n",
       "..             ...                     ...                ...   \n",
       "698              0                       1                  0   \n",
       "699              0                       1                  0   \n",
       "700              0                       0                  0   \n",
       "701              0                       0                  1   \n",
       "702              0                       0                  0   \n",
       "\n",
       "     Property_Area_Semiurban  Property_Area_Urban  \n",
       "0                          0                    1  \n",
       "1                          0                    0  \n",
       "2                          0                    1  \n",
       "3                          0                    1  \n",
       "4                          0                    1  \n",
       "..                       ...                  ...  \n",
       "698                        0                    1  \n",
       "699                        0                    0  \n",
       "700                        0                    0  \n",
       "701                        0                    1  \n",
       "702                        1                    0  \n",
       "\n",
       "[703 rows x 14 columns]"
      ]
     },
     "execution_count": 66,
     "metadata": {},
     "output_type": "execute_result"
    }
   ],
   "source": [
    "# by using smote we are adding data to (Yes) 1 such that the ratio between 1 to 0 becomes 0.75\n",
    "ove_sm=SMOTE(0.75)\n",
    "X,Y=ove_sm.fit_resample(X_s,Y_s)\n",
    "X"
   ]
  },
  {
   "cell_type": "code",
   "execution_count": 67,
   "id": "dbb96ead",
   "metadata": {},
   "outputs": [
    {
     "name": "stdout",
     "output_type": "stream",
     "text": [
      "Loan_Status\n",
      "1              402\n",
      "0              301\n",
      "dtype: int64\n"
     ]
    },
    {
     "data": {
      "image/png": "[encoded data removed]",
      "text/plain": [
       "<Figure size 432x288 with 1 Axes>"
      ]
     },
     "metadata": {
      "needs_background": "light"
     },
     "output_type": "display_data"
    }
   ],
   "source": [
    "sns.countplot(Y['Loan_Status'])\n",
    "print(Y.value_counts())\n",
    "plt.show()"
   ]
  },
  {
   "cell_type": "markdown",
   "id": "8b695c59",
   "metadata": {},
   "source": [
    "ratio of n/y is 0.75"
   ]
  },
  {
   "cell_type": "markdown",
   "id": "5624c84b",
   "metadata": {},
   "source": [
    "#### Running Algorithm"
   ]
  },
  {
   "cell_type": "code",
   "execution_count": 68,
   "id": "25688b56",
   "metadata": {},
   "outputs": [],
   "source": [
    "#importing necessary librairies \n",
    "#A=[] // stores test accuracy\n",
    "#B=[] // stores cv_mean \n",
    "#C=[] // stores mean_squared_error\n",
    "#D=[] // min diff between test accuracy and cv_score\n",
    "#mae=[] // stores mean_absolute_error\n",
    "\n",
    "\n",
    "from sklearn.metrics import roc_auc_score\n",
    "from sklearn.model_selection import train_test_split\n",
    "from sklearn.model_selection import cross_val_score\n",
    "from sklearn.metrics import confusion_matrix\n",
    "from sklearn.metrics import classification_report\n",
    "from sklearn.metrics import f1_score\n",
    "from sklearn.metrics import mean_squared_error\n",
    "from sklearn.metrics import mean_absolute_error\n",
    "from sklearn.metrics import accuracy_score\n",
    "A=[]\n",
    "B=[]\n",
    "C=[]\n",
    "D=[]\n",
    "E=[]\n",
    "mae=[]"
   ]
  },
  {
   "cell_type": "code",
   "execution_count": 69,
   "id": "3060c3c6",
   "metadata": {},
   "outputs": [],
   "source": [
    "#loop used to find the best random state\n",
    "def max_aucroc_score(regr,X,Y):\n",
    "    max_aucroc_score=0\n",
    "    for r_state in range(0,100):\n",
    "        x_train, x_test, y_train, y_test = train_test_split(X, Y, random_state = r_state, test_size=0.20,stratify=Y)\n",
    "        regr.fit(x_train,y_train)\n",
    "        y_pred = regr.predict(x_test)\n",
    "        aucroc_scr=(accuracy_score(y_test,y_pred))*100\n",
    "        print(\"accuracy score corresponding to \",r_state,\" is \",aucroc_scr)\n",
    "        if aucroc_scr>max_aucroc_score:\n",
    "            max_aucroc_score=aucroc_scr\n",
    "            final_r_state=r_state\n",
    "    print(\"max accuracy score corresponding to \",final_r_state,\" is \",max_aucroc_score)\n",
    "    return final_r_state"
   ]
  },
  {
   "cell_type": "code",
   "execution_count": 70,
   "id": "f6747eb1",
   "metadata": {},
   "outputs": [],
   "source": [
    "# used to get test accuracy, train accuracy, mse, mae,F1score,confusion matrix,classification report and auc score\n",
    "def te_t(regr,x_train,x_test,y_train,y_test):\n",
    "    regr.fit(x_train,y_train)\n",
    "    y_tr=regr.predict(x_train)\n",
    "    y_te=regr.predict(x_test)\n",
    "    print(f\"test accuracy is {round(accuracy_score(y_test,y_te)*100,1)}\")\n",
    "    A.append(round(accuracy_score(y_test,y_te)*100,1))\n",
    "   \n",
    "    print(f\"train accuracy is {round(accuracy_score(y_train,y_tr)*100,1)}\")\n",
    "    C.append(mean_squared_error(y_test,y_te))\n",
    "    mae.append(mean_absolute_error(y_test,y_te))\n",
    "    \n",
    "    \n",
    "    cm = confusion_matrix(y_test, y_te)\n",
    "    class_label = [\"Yes\", \"No\"]\n",
    "    df_cm = pd.DataFrame(cm, index=class_label,columns=class_label)\n",
    "    sns.heatmap(df_cm, annot=True, fmt='d')\n",
    "    plt.title(\"Confusion Matrix\")\n",
    "    plt.xlabel(\"Predicted\")\n",
    "    plt.ylabel(\"Actual\")\n",
    "    plt.show()\n",
    "    print('\\n')\n",
    "    \n",
    "    print(\"f1 score is : \",f1_score(y_test,y_te))\n",
    "    E.append(f1_score(y_test,y_te))\n",
    "    print('\\n')\n",
    "    \n",
    "    print(\"classification report \\n\",classification_report(y_test,y_te))\n",
    "   "
   ]
  },
  {
   "cell_type": "code",
   "execution_count": 71,
   "id": "615729a5",
   "metadata": {},
   "outputs": [],
   "source": [
    "# used to find the best cv_score\n",
    "def score(regr,x_train,x_test,y_train,y_test):\n",
    "    max_cv_mean=0\n",
    "    min_dif=100\n",
    "    r=0\n",
    "    k=0\n",
    "    y_tr=regr.predict(x_train)\n",
    "    y_te=regr.predict(x_test)\n",
    "    t_ac=round(accuracy_score(y_train,y_tr)*100,1)\n",
    "    te_ac=round(accuracy_score(y_test,y_te)*100,1)\n",
    "    for j in range(2,20):\n",
    "        cv_score=cross_val_score(regr,X,Y,cv=j)\n",
    "        cv_mean=cv_score.mean()*100\n",
    "        d=np.abs(cv_mean-te_ac)\n",
    "        print(f\"At cv is {j} cv score is {round(cv_mean,2)}  \\n test accuracy is {te_ac} \\n\")\n",
    "        if cv_mean>max_cv_mean:\n",
    "            max_cv_mean=cv_mean\n",
    "            k=j\n",
    "        if d<min_dif:\n",
    "            min_dif=d\n",
    "            r=j\n",
    "    B.append(max_cv_mean) \n",
    "    print(\"min diff between test accuracy and cv score \",min_dif,\" at \", r,\" max cv \",max_cv_mean,\" at \",k)\n",
    "    D.append(min_dif)"
   ]
  },
  {
   "cell_type": "code",
   "execution_count": 72,
   "id": "5f4f616f",
   "metadata": {},
   "outputs": [
    {
     "name": "stdout",
     "output_type": "stream",
     "text": [
      "accuracy score corresponding to  0  is  79.43262411347519\n",
      "accuracy score corresponding to  1  is  78.72340425531915\n",
      "accuracy score corresponding to  2  is  78.01418439716312\n",
      "accuracy score corresponding to  3  is  75.177304964539\n",
      "accuracy score corresponding to  4  is  73.04964539007092\n",
      "accuracy score corresponding to  5  is  78.01418439716312\n",
      "accuracy score corresponding to  6  is  73.75886524822694\n",
      "accuracy score corresponding to  7  is  76.59574468085107\n",
      "accuracy score corresponding to  8  is  73.75886524822694\n",
      "accuracy score corresponding to  9  is  72.3404255319149\n",
      "accuracy score corresponding to  10  is  76.59574468085107\n",
      "accuracy score corresponding to  11  is  74.46808510638297\n",
      "accuracy score corresponding to  12  is  80.85106382978722\n",
      "accuracy score corresponding to  13  is  78.72340425531915\n",
      "accuracy score corresponding to  14  is  69.50354609929079\n",
      "accuracy score corresponding to  15  is  76.59574468085107\n",
      "accuracy score corresponding to  16  is  76.59574468085107\n",
      "accuracy score corresponding to  17  is  72.3404255319149\n",
      "accuracy score corresponding to  18  is  73.04964539007092\n",
      "accuracy score corresponding to  19  is  75.88652482269504\n",
      "accuracy score corresponding to  20  is  77.30496453900709\n",
      "accuracy score corresponding to  21  is  74.46808510638297\n",
      "accuracy score corresponding to  22  is  68.08510638297872\n",
      "accuracy score corresponding to  23  is  78.01418439716312\n",
      "accuracy score corresponding to  24  is  66.66666666666666\n",
      "accuracy score corresponding to  25  is  69.50354609929079\n",
      "accuracy score corresponding to  26  is  75.88652482269504\n",
      "accuracy score corresponding to  27  is  69.50354609929079\n",
      "accuracy score corresponding to  28  is  70.92198581560284\n",
      "accuracy score corresponding to  29  is  79.43262411347519\n",
      "accuracy score corresponding to  30  is  73.04964539007092\n",
      "accuracy score corresponding to  31  is  78.01418439716312\n",
      "accuracy score corresponding to  32  is  68.08510638297872\n",
      "accuracy score corresponding to  33  is  70.2127659574468\n",
      "accuracy score corresponding to  34  is  81.56028368794325\n",
      "accuracy score corresponding to  35  is  71.63120567375887\n",
      "accuracy score corresponding to  36  is  69.50354609929079\n",
      "accuracy score corresponding to  37  is  76.59574468085107\n",
      "accuracy score corresponding to  38  is  80.1418439716312\n",
      "accuracy score corresponding to  39  is  68.08510638297872\n",
      "accuracy score corresponding to  40  is  73.04964539007092\n",
      "accuracy score corresponding to  41  is  72.3404255319149\n",
      "accuracy score corresponding to  42  is  80.85106382978722\n",
      "accuracy score corresponding to  43  is  80.85106382978722\n",
      "accuracy score corresponding to  44  is  75.177304964539\n",
      "accuracy score corresponding to  45  is  69.50354609929079\n",
      "accuracy score corresponding to  46  is  71.63120567375887\n",
      "accuracy score corresponding to  47  is  75.88652482269504\n",
      "accuracy score corresponding to  48  is  69.50354609929079\n",
      "accuracy score corresponding to  49  is  70.2127659574468\n",
      "accuracy score corresponding to  50  is  78.72340425531915\n",
      "accuracy score corresponding to  51  is  74.46808510638297\n",
      "accuracy score corresponding to  52  is  68.79432624113475\n",
      "accuracy score corresponding to  53  is  75.88652482269504\n",
      "accuracy score corresponding to  54  is  72.3404255319149\n",
      "accuracy score corresponding to  55  is  75.88652482269504\n",
      "accuracy score corresponding to  56  is  73.75886524822694\n",
      "accuracy score corresponding to  57  is  73.04964539007092\n",
      "accuracy score corresponding to  58  is  75.88652482269504\n",
      "accuracy score corresponding to  59  is  68.79432624113475\n",
      "accuracy score corresponding to  60  is  73.04964539007092\n",
      "accuracy score corresponding to  61  is  70.92198581560284\n",
      "accuracy score corresponding to  62  is  65.95744680851064\n",
      "accuracy score corresponding to  63  is  77.30496453900709\n",
      "accuracy score corresponding to  64  is  78.01418439716312\n",
      "accuracy score corresponding to  65  is  82.97872340425532\n",
      "accuracy score corresponding to  66  is  71.63120567375887\n",
      "accuracy score corresponding to  67  is  73.04964539007092\n",
      "accuracy score corresponding to  68  is  74.46808510638297\n",
      "accuracy score corresponding to  69  is  75.88652482269504\n",
      "accuracy score corresponding to  70  is  73.75886524822694\n",
      "accuracy score corresponding to  71  is  69.50354609929079\n",
      "accuracy score corresponding to  72  is  71.63120567375887\n",
      "accuracy score corresponding to  73  is  75.88652482269504\n",
      "accuracy score corresponding to  74  is  73.04964539007092\n",
      "accuracy score corresponding to  75  is  73.75886524822694\n",
      "accuracy score corresponding to  76  is  72.3404255319149\n",
      "accuracy score corresponding to  77  is  70.92198581560284\n",
      "accuracy score corresponding to  78  is  73.04964539007092\n",
      "accuracy score corresponding to  79  is  72.3404255319149\n",
      "accuracy score corresponding to  80  is  71.63120567375887\n",
      "accuracy score corresponding to  81  is  74.46808510638297\n",
      "accuracy score corresponding to  82  is  72.3404255319149\n",
      "accuracy score corresponding to  83  is  75.177304964539\n",
      "accuracy score corresponding to  84  is  68.79432624113475\n",
      "accuracy score corresponding to  85  is  70.92198581560284\n",
      "accuracy score corresponding to  86  is  78.01418439716312\n",
      "accuracy score corresponding to  87  is  68.08510638297872\n",
      "accuracy score corresponding to  88  is  72.3404255319149\n",
      "accuracy score corresponding to  89  is  78.72340425531915\n",
      "accuracy score corresponding to  90  is  71.63120567375887\n",
      "accuracy score corresponding to  91  is  75.88652482269504\n",
      "accuracy score corresponding to  92  is  63.829787234042556\n",
      "accuracy score corresponding to  93  is  71.63120567375887\n",
      "accuracy score corresponding to  94  is  73.75886524822694\n",
      "accuracy score corresponding to  95  is  68.08510638297872\n",
      "accuracy score corresponding to  96  is  77.30496453900709\n",
      "accuracy score corresponding to  97  is  74.46808510638297\n",
      "accuracy score corresponding to  98  is  75.88652482269504\n",
      "accuracy score corresponding to  99  is  73.04964539007092\n",
      "max accuracy score corresponding to  65  is  82.97872340425532\n"
     ]
    }
   ],
   "source": [
    "from sklearn.tree import DecisionTreeClassifier\n",
    "reg=DecisionTreeClassifier()\n",
    "R=max_aucroc_score(reg,X,Y)"
   ]
  },
  {
   "cell_type": "code",
   "execution_count": 73,
   "id": "59daf54a",
   "metadata": {},
   "outputs": [
    {
     "name": "stdout",
     "output_type": "stream",
     "text": [
      "test accuracy is 68.8\n",
      "train accuracy is 100.0\n"
     ]
    },
    {
     "data": {
      "image/png": "[encoded data removed]",
      "text/plain": [
       "<Figure size 432x288 with 2 Axes>"
      ]
     },
     "metadata": {
      "needs_background": "light"
     },
     "output_type": "display_data"
    },
    {
     "name": "stdout",
     "output_type": "stream",
     "text": [
      "\n",
      "\n",
      "f1 score is :  0.717948717948718\n",
      "\n",
      "\n",
      "classification report \n",
      "               precision    recall  f1-score   support\n",
      "\n",
      "           0       0.66      0.64      0.65        64\n",
      "           1       0.71      0.73      0.72        77\n",
      "\n",
      "    accuracy                           0.69       141\n",
      "   macro avg       0.69      0.68      0.68       141\n",
      "weighted avg       0.69      0.69      0.69       141\n",
      "\n",
      "\n",
      "\n",
      "At cv is 2 cv score is 70.41  \n",
      " test accuracy is 68.8 \n",
      "\n",
      "At cv is 3 cv score is 73.4  \n",
      " test accuracy is 68.8 \n",
      "\n",
      "At cv is 4 cv score is 71.98  \n",
      " test accuracy is 68.8 \n",
      "\n",
      "At cv is 5 cv score is 72.7  \n",
      " test accuracy is 68.8 \n",
      "\n",
      "At cv is 6 cv score is 73.13  \n",
      " test accuracy is 68.8 \n",
      "\n",
      "At cv is 7 cv score is 72.84  \n",
      " test accuracy is 68.8 \n",
      "\n",
      "At cv is 8 cv score is 74.68  \n",
      " test accuracy is 68.8 \n",
      "\n",
      "At cv is 9 cv score is 73.98  \n",
      " test accuracy is 68.8 \n",
      "\n",
      "At cv is 10 cv score is 74.56  \n",
      " test accuracy is 68.8 \n",
      "\n",
      "At cv is 11 cv score is 73.41  \n",
      " test accuracy is 68.8 \n",
      "\n",
      "At cv is 12 cv score is 75.14  \n",
      " test accuracy is 68.8 \n",
      "\n",
      "At cv is 13 cv score is 73.84  \n",
      " test accuracy is 68.8 \n",
      "\n",
      "At cv is 14 cv score is 73.56  \n",
      " test accuracy is 68.8 \n",
      "\n",
      "At cv is 15 cv score is 74.56  \n",
      " test accuracy is 68.8 \n",
      "\n",
      "At cv is 16 cv score is 74.83  \n",
      " test accuracy is 68.8 \n",
      "\n",
      "At cv is 17 cv score is 74.15  \n",
      " test accuracy is 68.8 \n",
      "\n",
      "At cv is 18 cv score is 75.26  \n",
      " test accuracy is 68.8 \n",
      "\n",
      "At cv is 19 cv score is 74.82  \n",
      " test accuracy is 68.8 \n",
      "\n",
      "min diff between test accuracy and cv score  1.610839160839177  at  2  max cv  75.25641025641025  at  18\n"
     ]
    }
   ],
   "source": [
    "x1_train,x1_test,y1_train,y1_test=train_test_split(X,Y,random_state=R,test_size=0.2)\n",
    "te_t(reg,x1_train,x1_test,y1_train,y1_test)\n",
    "print('\\n')\n",
    "score(reg,x1_train,x1_test,y1_train,y1_test)"
   ]
  },
  {
   "cell_type": "code",
   "execution_count": 74,
   "id": "6d228163",
   "metadata": {},
   "outputs": [
    {
     "name": "stdout",
     "output_type": "stream",
     "text": [
      "accuracy score corresponding to  0  is  84.39716312056737\n",
      "accuracy score corresponding to  1  is  85.1063829787234\n",
      "accuracy score corresponding to  2  is  79.43262411347519\n",
      "accuracy score corresponding to  3  is  80.85106382978722\n",
      "accuracy score corresponding to  4  is  80.1418439716312\n",
      "accuracy score corresponding to  5  is  82.97872340425532\n",
      "accuracy score corresponding to  6  is  81.56028368794325\n",
      "accuracy score corresponding to  7  is  75.88652482269504\n",
      "accuracy score corresponding to  8  is  82.26950354609929\n",
      "accuracy score corresponding to  9  is  81.56028368794325\n",
      "accuracy score corresponding to  10  is  84.39716312056737\n",
      "accuracy score corresponding to  11  is  80.85106382978722\n",
      "accuracy score corresponding to  12  is  80.85106382978722\n",
      "accuracy score corresponding to  13  is  82.97872340425532\n",
      "accuracy score corresponding to  14  is  75.88652482269504\n",
      "accuracy score corresponding to  15  is  83.68794326241135\n",
      "accuracy score corresponding to  16  is  80.85106382978722\n",
      "accuracy score corresponding to  17  is  82.97872340425532\n",
      "accuracy score corresponding to  18  is  82.26950354609929\n",
      "accuracy score corresponding to  19  is  82.26950354609929\n",
      "accuracy score corresponding to  20  is  81.56028368794325\n",
      "accuracy score corresponding to  21  is  81.56028368794325\n",
      "accuracy score corresponding to  22  is  82.26950354609929\n",
      "accuracy score corresponding to  23  is  83.68794326241135\n",
      "accuracy score corresponding to  24  is  78.72340425531915\n",
      "accuracy score corresponding to  25  is  86.52482269503547\n",
      "accuracy score corresponding to  26  is  80.85106382978722\n",
      "accuracy score corresponding to  27  is  74.46808510638297\n",
      "accuracy score corresponding to  28  is  75.177304964539\n",
      "accuracy score corresponding to  29  is  80.1418439716312\n",
      "accuracy score corresponding to  30  is  80.1418439716312\n",
      "accuracy score corresponding to  31  is  85.1063829787234\n",
      "accuracy score corresponding to  32  is  78.01418439716312\n",
      "accuracy score corresponding to  33  is  82.97872340425532\n",
      "accuracy score corresponding to  34  is  81.56028368794325\n",
      "accuracy score corresponding to  35  is  79.43262411347519\n",
      "accuracy score corresponding to  36  is  75.88652482269504\n",
      "accuracy score corresponding to  37  is  82.97872340425532\n",
      "accuracy score corresponding to  38  is  81.56028368794325\n",
      "accuracy score corresponding to  39  is  69.50354609929079\n",
      "accuracy score corresponding to  40  is  87.2340425531915\n",
      "accuracy score corresponding to  41  is  74.46808510638297\n",
      "accuracy score corresponding to  42  is  87.2340425531915\n",
      "accuracy score corresponding to  43  is  86.52482269503547\n",
      "accuracy score corresponding to  44  is  82.97872340425532\n",
      "accuracy score corresponding to  45  is  79.43262411347519\n",
      "accuracy score corresponding to  46  is  76.59574468085107\n",
      "accuracy score corresponding to  47  is  80.85106382978722\n",
      "accuracy score corresponding to  48  is  80.1418439716312\n",
      "accuracy score corresponding to  49  is  74.46808510638297\n",
      "accuracy score corresponding to  50  is  85.1063829787234\n",
      "accuracy score corresponding to  51  is  84.39716312056737\n",
      "accuracy score corresponding to  52  is  82.97872340425532\n",
      "accuracy score corresponding to  53  is  82.97872340425532\n",
      "accuracy score corresponding to  54  is  76.59574468085107\n",
      "accuracy score corresponding to  55  is  82.26950354609929\n",
      "accuracy score corresponding to  56  is  84.39716312056737\n",
      "accuracy score corresponding to  57  is  78.01418439716312\n",
      "accuracy score corresponding to  58  is  80.85106382978722\n",
      "accuracy score corresponding to  59  is  80.1418439716312\n",
      "accuracy score corresponding to  60  is  76.59574468085107\n",
      "accuracy score corresponding to  61  is  78.01418439716312\n",
      "accuracy score corresponding to  62  is  80.1418439716312\n",
      "accuracy score corresponding to  63  is  88.65248226950354\n",
      "accuracy score corresponding to  64  is  81.56028368794325\n",
      "accuracy score corresponding to  65  is  85.1063829787234\n",
      "accuracy score corresponding to  66  is  86.52482269503547\n",
      "accuracy score corresponding to  67  is  85.1063829787234\n",
      "accuracy score corresponding to  68  is  80.85106382978722\n",
      "accuracy score corresponding to  69  is  82.26950354609929\n",
      "accuracy score corresponding to  70  is  85.81560283687944\n",
      "accuracy score corresponding to  71  is  78.01418439716312\n",
      "accuracy score corresponding to  72  is  80.85106382978722\n",
      "accuracy score corresponding to  73  is  81.56028368794325\n",
      "accuracy score corresponding to  74  is  78.01418439716312\n",
      "accuracy score corresponding to  75  is  75.88652482269504\n",
      "accuracy score corresponding to  76  is  80.85106382978722\n",
      "accuracy score corresponding to  77  is  78.01418439716312\n",
      "accuracy score corresponding to  78  is  78.72340425531915\n",
      "accuracy score corresponding to  79  is  81.56028368794325\n",
      "accuracy score corresponding to  80  is  77.30496453900709\n",
      "accuracy score corresponding to  81  is  79.43262411347519\n",
      "accuracy score corresponding to  82  is  75.177304964539\n",
      "accuracy score corresponding to  83  is  85.1063829787234\n",
      "accuracy score corresponding to  84  is  84.39716312056737\n",
      "accuracy score corresponding to  85  is  78.01418439716312\n",
      "accuracy score corresponding to  86  is  79.43262411347519\n",
      "accuracy score corresponding to  87  is  79.43262411347519\n",
      "accuracy score corresponding to  88  is  87.94326241134752\n",
      "accuracy score corresponding to  89  is  78.72340425531915\n",
      "accuracy score corresponding to  90  is  80.1418439716312\n",
      "accuracy score corresponding to  91  is  82.97872340425532\n",
      "accuracy score corresponding to  92  is  77.30496453900709\n",
      "accuracy score corresponding to  93  is  77.30496453900709\n",
      "accuracy score corresponding to  94  is  80.85106382978722\n",
      "accuracy score corresponding to  95  is  80.85106382978722\n",
      "accuracy score corresponding to  96  is  82.26950354609929\n",
      "accuracy score corresponding to  97  is  78.01418439716312\n",
      "accuracy score corresponding to  98  is  81.56028368794325\n",
      "accuracy score corresponding to  99  is  84.39716312056737\n",
      "max accuracy score corresponding to  63  is  88.65248226950354\n"
     ]
    }
   ],
   "source": [
    "from sklearn.ensemble import RandomForestClassifier\n",
    "rf_c=RandomForestClassifier()\n",
    "R=max_aucroc_score(rf_c,X,Y)"
   ]
  },
  {
   "cell_type": "code",
   "execution_count": 75,
   "id": "f396cb7e",
   "metadata": {},
   "outputs": [
    {
     "name": "stdout",
     "output_type": "stream",
     "text": [
      "test accuracy is 79.4\n",
      "train accuracy is 100.0\n"
     ]
    },
    {
     "data": {
      "image/png": "[encoded data removed]",
      "text/plain": [
       "<Figure size 432x288 with 2 Axes>"
      ]
     },
     "metadata": {
      "needs_background": "light"
     },
     "output_type": "display_data"
    },
    {
     "name": "stdout",
     "output_type": "stream",
     "text": [
      "\n",
      "\n",
      "f1 score is :  0.8415300546448088\n",
      "\n",
      "\n",
      "classification report \n",
      "               precision    recall  f1-score   support\n",
      "\n",
      "           0       0.81      0.62      0.71        56\n",
      "           1       0.79      0.91      0.84        85\n",
      "\n",
      "    accuracy                           0.79       141\n",
      "   macro avg       0.80      0.77      0.77       141\n",
      "weighted avg       0.80      0.79      0.79       141\n",
      "\n",
      "\n",
      "\n",
      "At cv is 2 cv score is 76.39  \n",
      " test accuracy is 79.4 \n",
      "\n",
      "At cv is 3 cv score is 77.24  \n",
      " test accuracy is 79.4 \n",
      "\n",
      "At cv is 4 cv score is 80.09  \n",
      " test accuracy is 79.4 \n",
      "\n",
      "At cv is 5 cv score is 80.53  \n",
      " test accuracy is 79.4 \n",
      "\n",
      "At cv is 6 cv score is 80.8  \n",
      " test accuracy is 79.4 \n",
      "\n",
      "At cv is 7 cv score is 79.97  \n",
      " test accuracy is 79.4 \n",
      "\n",
      "At cv is 8 cv score is 80.95  \n",
      " test accuracy is 79.4 \n",
      "\n",
      "At cv is 9 cv score is 80.23  \n",
      " test accuracy is 79.4 \n",
      "\n",
      "At cv is 10 cv score is 81.53  \n",
      " test accuracy is 79.4 \n",
      "\n",
      "At cv is 11 cv score is 81.23  \n",
      " test accuracy is 79.4 \n",
      "\n",
      "At cv is 12 cv score is 80.84  \n",
      " test accuracy is 79.4 \n",
      "\n",
      "At cv is 13 cv score is 82.37  \n",
      " test accuracy is 79.4 \n",
      "\n",
      "At cv is 14 cv score is 81.1  \n",
      " test accuracy is 79.4 \n",
      "\n",
      "At cv is 15 cv score is 81.1  \n",
      " test accuracy is 79.4 \n",
      "\n",
      "At cv is 16 cv score is 81.09  \n",
      " test accuracy is 79.4 \n",
      "\n",
      "At cv is 17 cv score is 80.84  \n",
      " test accuracy is 79.4 \n",
      "\n",
      "At cv is 18 cv score is 81.51  \n",
      " test accuracy is 79.4 \n",
      "\n",
      "At cv is 19 cv score is 81.79  \n",
      " test accuracy is 79.4 \n",
      "\n",
      "min diff between test accuracy and cv score  0.5660537482319512  at  7  max cv  82.36726236726236  at  13\n"
     ]
    }
   ],
   "source": [
    "x2_train,x2_test,y2_train,y2_test=train_test_split(X,Y,random_state=R,test_size=0.2)\n",
    "te_t(rf_c,x2_train,x2_test,y2_train,y2_test)\n",
    "print('\\n')\n",
    "score(rf_c,x2_train,x2_test,y2_train,y2_test)"
   ]
  },
  {
   "cell_type": "code",
   "execution_count": 76,
   "id": "26003720",
   "metadata": {},
   "outputs": [
    {
     "name": "stdout",
     "output_type": "stream",
     "text": [
      "accuracy score corresponding to  0  is  70.92198581560284\n",
      "accuracy score corresponding to  1  is  70.92198581560284\n",
      "accuracy score corresponding to  2  is  74.46808510638297\n",
      "accuracy score corresponding to  3  is  72.3404255319149\n",
      "accuracy score corresponding to  4  is  65.95744680851064\n",
      "accuracy score corresponding to  5  is  73.75886524822694\n",
      "accuracy score corresponding to  6  is  76.59574468085107\n",
      "accuracy score corresponding to  7  is  72.3404255319149\n",
      "accuracy score corresponding to  8  is  74.46808510638297\n",
      "accuracy score corresponding to  9  is  76.59574468085107\n",
      "accuracy score corresponding to  10  is  74.46808510638297\n",
      "accuracy score corresponding to  11  is  69.50354609929079\n",
      "accuracy score corresponding to  12  is  71.63120567375887\n",
      "accuracy score corresponding to  13  is  75.177304964539\n",
      "accuracy score corresponding to  14  is  75.88652482269504\n",
      "accuracy score corresponding to  15  is  73.04964539007092\n",
      "accuracy score corresponding to  16  is  74.46808510638297\n",
      "accuracy score corresponding to  17  is  72.3404255319149\n",
      "accuracy score corresponding to  18  is  68.79432624113475\n",
      "accuracy score corresponding to  19  is  70.92198581560284\n",
      "accuracy score corresponding to  20  is  77.30496453900709\n",
      "accuracy score corresponding to  21  is  70.2127659574468\n",
      "accuracy score corresponding to  22  is  75.177304964539\n",
      "accuracy score corresponding to  23  is  73.04964539007092\n",
      "accuracy score corresponding to  24  is  67.37588652482269\n",
      "accuracy score corresponding to  25  is  81.56028368794325\n",
      "accuracy score corresponding to  26  is  79.43262411347519\n",
      "accuracy score corresponding to  27  is  67.37588652482269\n",
      "accuracy score corresponding to  28  is  70.92198581560284\n",
      "accuracy score corresponding to  29  is  72.3404255319149\n",
      "accuracy score corresponding to  30  is  75.177304964539\n",
      "accuracy score corresponding to  31  is  75.177304964539\n",
      "accuracy score corresponding to  32  is  68.79432624113475\n",
      "accuracy score corresponding to  33  is  71.63120567375887\n",
      "accuracy score corresponding to  34  is  76.59574468085107\n",
      "accuracy score corresponding to  35  is  74.46808510638297\n",
      "accuracy score corresponding to  36  is  68.79432624113475\n",
      "accuracy score corresponding to  37  is  73.04964539007092\n",
      "accuracy score corresponding to  38  is  70.92198581560284\n",
      "accuracy score corresponding to  39  is  66.66666666666666\n",
      "accuracy score corresponding to  40  is  76.59574468085107\n",
      "accuracy score corresponding to  41  is  69.50354609929079\n",
      "accuracy score corresponding to  42  is  77.30496453900709\n",
      "accuracy score corresponding to  43  is  75.88652482269504\n",
      "accuracy score corresponding to  44  is  74.46808510638297\n",
      "accuracy score corresponding to  45  is  73.75886524822694\n",
      "accuracy score corresponding to  46  is  62.4113475177305\n",
      "accuracy score corresponding to  47  is  73.04964539007092\n",
      "accuracy score corresponding to  48  is  73.75886524822694\n",
      "accuracy score corresponding to  49  is  75.177304964539\n",
      "accuracy score corresponding to  50  is  81.56028368794325\n",
      "accuracy score corresponding to  51  is  78.01418439716312\n",
      "accuracy score corresponding to  52  is  73.04964539007092\n",
      "accuracy score corresponding to  53  is  72.3404255319149\n",
      "accuracy score corresponding to  54  is  70.92198581560284\n",
      "accuracy score corresponding to  55  is  76.59574468085107\n",
      "accuracy score corresponding to  56  is  73.04964539007092\n",
      "accuracy score corresponding to  57  is  72.3404255319149\n",
      "accuracy score corresponding to  58  is  73.04964539007092\n",
      "accuracy score corresponding to  59  is  75.177304964539\n",
      "accuracy score corresponding to  60  is  69.50354609929079\n",
      "accuracy score corresponding to  61  is  74.46808510638297\n",
      "accuracy score corresponding to  62  is  78.01418439716312\n",
      "accuracy score corresponding to  63  is  77.30496453900709\n",
      "accuracy score corresponding to  64  is  75.177304964539\n",
      "accuracy score corresponding to  65  is  78.72340425531915\n",
      "accuracy score corresponding to  66  is  75.177304964539\n",
      "accuracy score corresponding to  67  is  72.3404255319149\n",
      "accuracy score corresponding to  68  is  73.75886524822694\n",
      "accuracy score corresponding to  69  is  74.46808510638297\n",
      "accuracy score corresponding to  70  is  79.43262411347519\n",
      "accuracy score corresponding to  71  is  68.08510638297872\n",
      "accuracy score corresponding to  72  is  70.92198581560284\n",
      "accuracy score corresponding to  73  is  76.59574468085107\n",
      "accuracy score corresponding to  74  is  69.50354609929079\n",
      "accuracy score corresponding to  75  is  68.79432624113475\n",
      "accuracy score corresponding to  76  is  76.59574468085107\n",
      "accuracy score corresponding to  77  is  74.46808510638297\n",
      "accuracy score corresponding to  78  is  76.59574468085107\n",
      "accuracy score corresponding to  79  is  73.04964539007092\n",
      "accuracy score corresponding to  80  is  75.88652482269504\n",
      "accuracy score corresponding to  81  is  75.88652482269504\n",
      "accuracy score corresponding to  82  is  65.95744680851064\n",
      "accuracy score corresponding to  83  is  75.88652482269504\n",
      "accuracy score corresponding to  84  is  75.88652482269504\n",
      "accuracy score corresponding to  85  is  74.46808510638297\n",
      "accuracy score corresponding to  86  is  69.50354609929079\n",
      "accuracy score corresponding to  87  is  72.3404255319149\n",
      "accuracy score corresponding to  88  is  71.63120567375887\n",
      "accuracy score corresponding to  89  is  74.46808510638297\n",
      "accuracy score corresponding to  90  is  71.63120567375887\n",
      "accuracy score corresponding to  91  is  72.3404255319149\n",
      "accuracy score corresponding to  92  is  70.92198581560284\n",
      "accuracy score corresponding to  93  is  71.63120567375887\n",
      "accuracy score corresponding to  94  is  74.46808510638297\n",
      "accuracy score corresponding to  95  is  68.08510638297872\n",
      "accuracy score corresponding to  96  is  73.04964539007092\n",
      "accuracy score corresponding to  97  is  69.50354609929079\n",
      "accuracy score corresponding to  98  is  72.3404255319149\n",
      "accuracy score corresponding to  99  is  75.88652482269504\n",
      "max accuracy score corresponding to  25  is  81.56028368794325\n"
     ]
    }
   ],
   "source": [
    "from sklearn.neighbors import KNeighborsClassifier\n",
    "kc=KNeighborsClassifier()\n",
    "R=max_aucroc_score(kc,X,Y)"
   ]
  },
  {
   "cell_type": "code",
   "execution_count": 77,
   "id": "c3cbe5ca",
   "metadata": {},
   "outputs": [
    {
     "name": "stdout",
     "output_type": "stream",
     "text": [
      "test accuracy is 76.6\n",
      "train accuracy is 82.7\n"
     ]
    },
    {
     "data": {
      "image/png": "[encoded data removed]",
      "text/plain": [
       "<Figure size 432x288 with 2 Axes>"
      ]
     },
     "metadata": {
      "needs_background": "light"
     },
     "output_type": "display_data"
    },
    {
     "name": "stdout",
     "output_type": "stream",
     "text": [
      "\n",
      "\n",
      "f1 score is :  0.8070175438596492\n",
      "\n",
      "\n",
      "classification report \n",
      "               precision    recall  f1-score   support\n",
      "\n",
      "           0       0.72      0.68      0.70        57\n",
      "           1       0.79      0.82      0.81        84\n",
      "\n",
      "    accuracy                           0.77       141\n",
      "   macro avg       0.76      0.75      0.75       141\n",
      "weighted avg       0.76      0.77      0.76       141\n",
      "\n",
      "\n",
      "\n",
      "At cv is 2 cv score is 71.84  \n",
      " test accuracy is 76.6 \n",
      "\n",
      "At cv is 3 cv score is 69.14  \n",
      " test accuracy is 76.6 \n",
      "\n",
      "At cv is 4 cv score is 70.13  \n",
      " test accuracy is 76.6 \n",
      "\n",
      "At cv is 5 cv score is 70.42  \n",
      " test accuracy is 76.6 \n",
      "\n",
      "At cv is 6 cv score is 70.55  \n",
      " test accuracy is 76.6 \n",
      "\n",
      "At cv is 7 cv score is 71.13  \n",
      " test accuracy is 76.6 \n",
      "\n",
      "At cv is 8 cv score is 71.84  \n",
      " test accuracy is 76.6 \n",
      "\n",
      "At cv is 9 cv score is 70.83  \n",
      " test accuracy is 76.6 \n",
      "\n",
      "At cv is 10 cv score is 72.12  \n",
      " test accuracy is 76.6 \n",
      "\n",
      "At cv is 11 cv score is 72.26  \n",
      " test accuracy is 76.6 \n",
      "\n",
      "At cv is 12 cv score is 71.85  \n",
      " test accuracy is 76.6 \n",
      "\n",
      "At cv is 13 cv score is 71.54  \n",
      " test accuracy is 76.6 \n",
      "\n",
      "At cv is 14 cv score is 71.26  \n",
      " test accuracy is 76.6 \n",
      "\n",
      "At cv is 15 cv score is 72.26  \n",
      " test accuracy is 76.6 \n",
      "\n",
      "At cv is 16 cv score is 71.84  \n",
      " test accuracy is 76.6 \n",
      "\n",
      "At cv is 17 cv score is 71.4  \n",
      " test accuracy is 76.6 \n",
      "\n",
      "At cv is 18 cv score is 71.53  \n",
      " test accuracy is 76.6 \n",
      "\n",
      "At cv is 19 cv score is 72.55  \n",
      " test accuracy is 76.6 \n",
      "\n",
      "min diff between test accuracy and cv score  4.053769559032702  at  19  max cv  72.54623044096729  at  19\n"
     ]
    }
   ],
   "source": [
    "x3_train,x3_test,y3_train,y3_test=train_test_split(X,Y,random_state=R,test_size=0.2)\n",
    "te_t(kc,x3_train,x3_test,y3_train,y3_test)\n",
    "print('\\n')\n",
    "score(kc,x3_train,x3_test,y3_train,y3_test)"
   ]
  },
  {
   "cell_type": "code",
   "execution_count": 78,
   "id": "c63fa70d",
   "metadata": {},
   "outputs": [
    {
     "name": "stdout",
     "output_type": "stream",
     "text": [
      "accuracy score corresponding to  0  is  79.43262411347519\n",
      "accuracy score corresponding to  1  is  75.177304964539\n",
      "accuracy score corresponding to  2  is  77.30496453900709\n",
      "accuracy score corresponding to  3  is  81.56028368794325\n",
      "accuracy score corresponding to  4  is  75.177304964539\n",
      "accuracy score corresponding to  5  is  78.01418439716312\n",
      "accuracy score corresponding to  6  is  73.04964539007092\n",
      "accuracy score corresponding to  7  is  74.46808510638297\n",
      "accuracy score corresponding to  8  is  76.59574468085107\n",
      "accuracy score corresponding to  9  is  81.56028368794325\n",
      "accuracy score corresponding to  10  is  80.1418439716312\n",
      "accuracy score corresponding to  11  is  82.26950354609929\n",
      "accuracy score corresponding to  12  is  77.30496453900709\n",
      "accuracy score corresponding to  13  is  78.72340425531915\n",
      "accuracy score corresponding to  14  is  74.46808510638297\n",
      "accuracy score corresponding to  15  is  79.43262411347519\n",
      "accuracy score corresponding to  16  is  73.75886524822694\n",
      "accuracy score corresponding to  17  is  80.85106382978722\n",
      "accuracy score corresponding to  18  is  77.30496453900709\n",
      "accuracy score corresponding to  19  is  74.46808510638297\n",
      "accuracy score corresponding to  20  is  80.1418439716312\n",
      "accuracy score corresponding to  21  is  75.88652482269504\n",
      "accuracy score corresponding to  22  is  78.72340425531915\n",
      "accuracy score corresponding to  23  is  77.30496453900709\n",
      "accuracy score corresponding to  24  is  77.30496453900709\n",
      "accuracy score corresponding to  25  is  80.1418439716312\n",
      "accuracy score corresponding to  26  is  78.72340425531915\n",
      "accuracy score corresponding to  27  is  71.63120567375887\n",
      "accuracy score corresponding to  28  is  74.46808510638297\n",
      "accuracy score corresponding to  29  is  78.72340425531915\n",
      "accuracy score corresponding to  30  is  76.59574468085107\n",
      "accuracy score corresponding to  31  is  78.72340425531915\n",
      "accuracy score corresponding to  32  is  72.3404255319149\n",
      "accuracy score corresponding to  33  is  74.46808510638297\n",
      "accuracy score corresponding to  34  is  78.72340425531915\n",
      "accuracy score corresponding to  35  is  78.01418439716312\n",
      "accuracy score corresponding to  36  is  75.177304964539\n",
      "accuracy score corresponding to  37  is  76.59574468085107\n",
      "accuracy score corresponding to  38  is  78.72340425531915\n",
      "accuracy score corresponding to  39  is  70.92198581560284\n",
      "accuracy score corresponding to  40  is  82.26950354609929\n",
      "accuracy score corresponding to  41  is  75.88652482269504\n",
      "accuracy score corresponding to  42  is  79.43262411347519\n",
      "accuracy score corresponding to  43  is  79.43262411347519\n",
      "accuracy score corresponding to  44  is  76.59574468085107\n",
      "accuracy score corresponding to  45  is  74.46808510638297\n",
      "accuracy score corresponding to  46  is  76.59574468085107\n",
      "accuracy score corresponding to  47  is  78.72340425531915\n",
      "accuracy score corresponding to  48  is  76.59574468085107\n",
      "accuracy score corresponding to  49  is  73.04964539007092\n",
      "accuracy score corresponding to  50  is  82.26950354609929\n",
      "accuracy score corresponding to  51  is  79.43262411347519\n",
      "accuracy score corresponding to  52  is  75.177304964539\n",
      "accuracy score corresponding to  53  is  78.01418439716312\n",
      "accuracy score corresponding to  54  is  73.75886524822694\n",
      "accuracy score corresponding to  55  is  78.01418439716312\n",
      "accuracy score corresponding to  56  is  78.72340425531915\n",
      "accuracy score corresponding to  57  is  76.59574468085107\n",
      "accuracy score corresponding to  58  is  78.72340425531915\n",
      "accuracy score corresponding to  59  is  77.30496453900709\n",
      "accuracy score corresponding to  60  is  76.59574468085107\n",
      "accuracy score corresponding to  61  is  78.01418439716312\n",
      "accuracy score corresponding to  62  is  80.1418439716312\n",
      "accuracy score corresponding to  63  is  84.39716312056737\n",
      "accuracy score corresponding to  64  is  77.30496453900709\n",
      "accuracy score corresponding to  65  is  77.30496453900709\n",
      "accuracy score corresponding to  66  is  81.56028368794325\n",
      "accuracy score corresponding to  67  is  80.1418439716312\n",
      "accuracy score corresponding to  68  is  76.59574468085107\n",
      "accuracy score corresponding to  69  is  74.46808510638297\n",
      "accuracy score corresponding to  70  is  79.43262411347519\n",
      "accuracy score corresponding to  71  is  73.75886524822694\n",
      "accuracy score corresponding to  72  is  75.177304964539\n",
      "accuracy score corresponding to  73  is  79.43262411347519\n",
      "accuracy score corresponding to  74  is  75.177304964539\n",
      "accuracy score corresponding to  75  is  74.46808510638297\n",
      "accuracy score corresponding to  76  is  80.85106382978722\n",
      "accuracy score corresponding to  77  is  78.01418439716312\n",
      "accuracy score corresponding to  78  is  74.46808510638297\n",
      "accuracy score corresponding to  79  is  78.01418439716312\n",
      "accuracy score corresponding to  80  is  75.177304964539\n",
      "accuracy score corresponding to  81  is  75.88652482269504\n",
      "accuracy score corresponding to  82  is  71.63120567375887\n",
      "accuracy score corresponding to  83  is  78.01418439716312\n",
      "accuracy score corresponding to  84  is  77.30496453900709\n",
      "accuracy score corresponding to  85  is  75.88652482269504\n",
      "accuracy score corresponding to  86  is  78.01418439716312\n",
      "accuracy score corresponding to  87  is  73.75886524822694\n",
      "accuracy score corresponding to  88  is  85.81560283687944\n",
      "accuracy score corresponding to  89  is  77.30496453900709\n",
      "accuracy score corresponding to  90  is  78.72340425531915\n",
      "accuracy score corresponding to  91  is  78.01418439716312\n",
      "accuracy score corresponding to  92  is  75.177304964539\n",
      "accuracy score corresponding to  93  is  70.92198581560284\n",
      "accuracy score corresponding to  94  is  76.59574468085107\n",
      "accuracy score corresponding to  95  is  79.43262411347519\n",
      "accuracy score corresponding to  96  is  76.59574468085107\n",
      "accuracy score corresponding to  97  is  73.75886524822694\n",
      "accuracy score corresponding to  98  is  80.85106382978722\n",
      "accuracy score corresponding to  99  is  76.59574468085107\n",
      "max accuracy score corresponding to  88  is  85.81560283687944\n"
     ]
    }
   ],
   "source": [
    "from sklearn.ensemble import GradientBoostingClassifier\n",
    "grad_c=GradientBoostingClassifier()\n",
    "R=max_aucroc_score(grad_c,X,Y)\n"
   ]
  },
  {
   "cell_type": "code",
   "execution_count": 79,
   "id": "c28c3502",
   "metadata": {},
   "outputs": [
    {
     "name": "stdout",
     "output_type": "stream",
     "text": [
      "test accuracy is 79.4\n",
      "train accuracy is 88.8\n"
     ]
    },
    {
     "data": {
      "image/png": "[encoded data removed]",
      "text/plain": [
       "<Figure size 432x288 with 2 Axes>"
      ]
     },
     "metadata": {
      "needs_background": "light"
     },
     "output_type": "display_data"
    },
    {
     "name": "stdout",
     "output_type": "stream",
     "text": [
      "\n",
      "\n",
      "f1 score is :  0.849740932642487\n",
      "\n",
      "\n",
      "classification report \n",
      "               precision    recall  f1-score   support\n",
      "\n",
      "           0       0.83      0.57      0.67        53\n",
      "           1       0.78      0.93      0.85        88\n",
      "\n",
      "    accuracy                           0.79       141\n",
      "   macro avg       0.81      0.75      0.76       141\n",
      "weighted avg       0.80      0.79      0.78       141\n",
      "\n",
      "\n",
      "\n",
      "At cv is 2 cv score is 72.97  \n",
      " test accuracy is 79.4 \n",
      "\n",
      "At cv is 3 cv score is 75.68  \n",
      " test accuracy is 79.4 \n",
      "\n",
      "At cv is 4 cv score is 76.53  \n",
      " test accuracy is 79.4 \n",
      "\n",
      "At cv is 5 cv score is 76.97  \n",
      " test accuracy is 79.4 \n",
      "\n",
      "At cv is 6 cv score is 77.1  \n",
      " test accuracy is 79.4 \n",
      "\n",
      "At cv is 7 cv score is 76.68  \n",
      " test accuracy is 79.4 \n",
      "\n",
      "At cv is 8 cv score is 76.25  \n",
      " test accuracy is 79.4 \n",
      "\n",
      "At cv is 9 cv score is 76.53  \n",
      " test accuracy is 79.4 \n",
      "\n",
      "At cv is 10 cv score is 76.84  \n",
      " test accuracy is 79.4 \n",
      "\n",
      "At cv is 11 cv score is 76.54  \n",
      " test accuracy is 79.4 \n",
      "\n",
      "At cv is 12 cv score is 76.85  \n",
      " test accuracy is 79.4 \n",
      "\n",
      "At cv is 13 cv score is 77.68  \n",
      " test accuracy is 79.4 \n",
      "\n",
      "At cv is 14 cv score is 77.68  \n",
      " test accuracy is 79.4 \n",
      "\n",
      "At cv is 15 cv score is 78.11  \n",
      " test accuracy is 79.4 \n",
      "\n",
      "At cv is 16 cv score is 77.96  \n",
      " test accuracy is 79.4 \n",
      "\n",
      "At cv is 17 cv score is 77.27  \n",
      " test accuracy is 79.4 \n",
      "\n",
      "At cv is 18 cv score is 77.54  \n",
      " test accuracy is 79.4 \n",
      "\n",
      "At cv is 19 cv score is 77.81  \n",
      " test accuracy is 79.4 \n",
      "\n",
      "min diff between test accuracy and cv score  1.2902251002158494  at  15  max cv  78.10977489978416  at  15\n"
     ]
    }
   ],
   "source": [
    "x4_train,x4_test,y4_train,y4_test=train_test_split(X,Y,random_state=R,test_size=0.2)\n",
    "te_t(grad_c,x4_train,x4_test,y4_train,y4_test)\n",
    "print('\\n')\n",
    "score(grad_c,x4_train,x4_test,y4_train,y4_test)"
   ]
  },
  {
   "cell_type": "code",
   "execution_count": 80,
   "id": "35689141",
   "metadata": {},
   "outputs": [
    {
     "name": "stdout",
     "output_type": "stream",
     "text": [
      "accuracy score corresponding to  0  is  77.30496453900709\n",
      "accuracy score corresponding to  1  is  78.72340425531915\n",
      "accuracy score corresponding to  2  is  75.88652482269504\n",
      "accuracy score corresponding to  3  is  80.85106382978722\n",
      "accuracy score corresponding to  4  is  71.63120567375887\n",
      "accuracy score corresponding to  5  is  75.88652482269504\n",
      "accuracy score corresponding to  6  is  73.04964539007092\n",
      "accuracy score corresponding to  7  is  75.177304964539\n",
      "accuracy score corresponding to  8  is  80.1418439716312\n",
      "accuracy score corresponding to  9  is  80.85106382978722\n",
      "accuracy score corresponding to  10  is  82.97872340425532\n",
      "accuracy score corresponding to  11  is  82.26950354609929\n",
      "accuracy score corresponding to  12  is  75.177304964539\n",
      "accuracy score corresponding to  13  is  78.01418439716312\n",
      "accuracy score corresponding to  14  is  75.177304964539\n",
      "accuracy score corresponding to  15  is  78.01418439716312\n",
      "accuracy score corresponding to  16  is  78.72340425531915\n",
      "accuracy score corresponding to  17  is  74.46808510638297\n",
      "accuracy score corresponding to  18  is  73.75886524822694\n",
      "accuracy score corresponding to  19  is  73.04964539007092\n",
      "accuracy score corresponding to  20  is  79.43262411347519\n",
      "accuracy score corresponding to  21  is  78.01418439716312\n",
      "accuracy score corresponding to  22  is  77.30496453900709\n",
      "accuracy score corresponding to  23  is  76.59574468085107\n",
      "accuracy score corresponding to  24  is  76.59574468085107\n",
      "accuracy score corresponding to  25  is  74.46808510638297\n",
      "accuracy score corresponding to  26  is  78.01418439716312\n",
      "accuracy score corresponding to  27  is  70.92198581560284\n",
      "accuracy score corresponding to  28  is  78.72340425531915\n",
      "accuracy score corresponding to  29  is  78.01418439716312\n",
      "accuracy score corresponding to  30  is  75.88652482269504\n",
      "accuracy score corresponding to  31  is  73.75886524822694\n",
      "accuracy score corresponding to  32  is  73.75886524822694\n",
      "accuracy score corresponding to  33  is  73.04964539007092\n",
      "accuracy score corresponding to  34  is  77.30496453900709\n",
      "accuracy score corresponding to  35  is  78.01418439716312\n",
      "accuracy score corresponding to  36  is  75.177304964539\n",
      "accuracy score corresponding to  37  is  74.46808510638297\n",
      "accuracy score corresponding to  38  is  73.75886524822694\n",
      "accuracy score corresponding to  39  is  70.2127659574468\n",
      "accuracy score corresponding to  40  is  79.43262411347519\n",
      "accuracy score corresponding to  41  is  71.63120567375887\n",
      "accuracy score corresponding to  42  is  78.72340425531915\n",
      "accuracy score corresponding to  43  is  81.56028368794325\n",
      "accuracy score corresponding to  44  is  74.46808510638297\n",
      "accuracy score corresponding to  45  is  80.1418439716312\n",
      "accuracy score corresponding to  46  is  79.43262411347519\n",
      "accuracy score corresponding to  47  is  75.177304964539\n",
      "accuracy score corresponding to  48  is  75.88652482269504\n",
      "accuracy score corresponding to  49  is  75.177304964539\n",
      "accuracy score corresponding to  50  is  76.59574468085107\n",
      "accuracy score corresponding to  51  is  78.01418439716312\n",
      "accuracy score corresponding to  52  is  78.01418439716312\n",
      "accuracy score corresponding to  53  is  77.30496453900709\n",
      "accuracy score corresponding to  54  is  75.88652482269504\n",
      "accuracy score corresponding to  55  is  77.30496453900709\n",
      "accuracy score corresponding to  56  is  76.59574468085107\n",
      "accuracy score corresponding to  57  is  75.177304964539\n",
      "accuracy score corresponding to  58  is  74.46808510638297\n",
      "accuracy score corresponding to  59  is  78.72340425531915\n",
      "accuracy score corresponding to  60  is  73.75886524822694\n",
      "accuracy score corresponding to  61  is  73.75886524822694\n",
      "accuracy score corresponding to  62  is  78.72340425531915\n",
      "accuracy score corresponding to  63  is  83.68794326241135\n",
      "accuracy score corresponding to  64  is  75.88652482269504\n",
      "accuracy score corresponding to  65  is  78.01418439716312\n",
      "accuracy score corresponding to  66  is  81.56028368794325\n",
      "accuracy score corresponding to  67  is  78.01418439716312\n",
      "accuracy score corresponding to  68  is  75.177304964539\n",
      "accuracy score corresponding to  69  is  76.59574468085107\n",
      "accuracy score corresponding to  70  is  75.177304964539\n",
      "accuracy score corresponding to  71  is  75.177304964539\n",
      "accuracy score corresponding to  72  is  73.04964539007092\n",
      "accuracy score corresponding to  73  is  75.88652482269504\n",
      "accuracy score corresponding to  74  is  77.30496453900709\n",
      "accuracy score corresponding to  75  is  72.3404255319149\n",
      "accuracy score corresponding to  76  is  79.43262411347519\n",
      "accuracy score corresponding to  77  is  72.3404255319149\n",
      "accuracy score corresponding to  78  is  75.88652482269504\n",
      "accuracy score corresponding to  79  is  73.04964539007092\n",
      "accuracy score corresponding to  80  is  75.177304964539\n",
      "accuracy score corresponding to  81  is  70.92198581560284\n",
      "accuracy score corresponding to  82  is  69.50354609929079\n",
      "accuracy score corresponding to  83  is  76.59574468085107\n",
      "accuracy score corresponding to  84  is  80.85106382978722\n",
      "accuracy score corresponding to  85  is  75.177304964539\n",
      "accuracy score corresponding to  86  is  73.75886524822694\n",
      "accuracy score corresponding to  87  is  71.63120567375887\n",
      "accuracy score corresponding to  88  is  81.56028368794325\n",
      "accuracy score corresponding to  89  is  77.30496453900709\n",
      "accuracy score corresponding to  90  is  78.72340425531915\n",
      "accuracy score corresponding to  91  is  76.59574468085107\n",
      "accuracy score corresponding to  92  is  75.88652482269504\n",
      "accuracy score corresponding to  93  is  69.50354609929079\n",
      "accuracy score corresponding to  94  is  80.1418439716312\n",
      "accuracy score corresponding to  95  is  82.26950354609929\n",
      "accuracy score corresponding to  96  is  70.92198581560284\n",
      "accuracy score corresponding to  97  is  73.04964539007092\n",
      "accuracy score corresponding to  98  is  77.30496453900709\n",
      "accuracy score corresponding to  99  is  74.46808510638297\n",
      "max accuracy score corresponding to  63  is  83.68794326241135\n"
     ]
    }
   ],
   "source": [
    "from sklearn.ensemble import AdaBoostClassifier\n",
    "adboost_c=AdaBoostClassifier()\n",
    "R=max_aucroc_score(adboost_c,X,Y)"
   ]
  },
  {
   "cell_type": "code",
   "execution_count": 81,
   "id": "fc91e1f2",
   "metadata": {},
   "outputs": [
    {
     "name": "stdout",
     "output_type": "stream",
     "text": [
      "test accuracy is 78.7\n",
      "train accuracy is 84.2\n"
     ]
    },
    {
     "data": {
      "image/png": "[encoded data removed]",
      "text/plain": [
       "<Figure size 432x288 with 2 Axes>"
      ]
     },
     "metadata": {
      "needs_background": "light"
     },
     "output_type": "display_data"
    },
    {
     "name": "stdout",
     "output_type": "stream",
     "text": [
      "\n",
      "\n",
      "f1 score is :  0.8404255319148938\n",
      "\n",
      "\n",
      "classification report \n",
      "               precision    recall  f1-score   support\n",
      "\n",
      "           0       0.84      0.57      0.68        56\n",
      "           1       0.77      0.93      0.84        85\n",
      "\n",
      "    accuracy                           0.79       141\n",
      "   macro avg       0.80      0.75      0.76       141\n",
      "weighted avg       0.80      0.79      0.78       141\n",
      "\n",
      "\n",
      "\n",
      "At cv is 2 cv score is 70.84  \n",
      " test accuracy is 78.7 \n",
      "\n",
      "At cv is 3 cv score is 73.69  \n",
      " test accuracy is 78.7 \n",
      "\n",
      "At cv is 4 cv score is 73.68  \n",
      " test accuracy is 78.7 \n",
      "\n",
      "At cv is 5 cv score is 75.12  \n",
      " test accuracy is 78.7 \n",
      "\n",
      "At cv is 6 cv score is 75.25  \n",
      " test accuracy is 78.7 \n",
      "\n",
      "At cv is 7 cv score is 77.12  \n",
      " test accuracy is 78.7 \n",
      "\n",
      "At cv is 8 cv score is 75.25  \n",
      " test accuracy is 78.7 \n",
      "\n",
      "At cv is 9 cv score is 74.68  \n",
      " test accuracy is 78.7 \n",
      "\n",
      "At cv is 10 cv score is 75.7  \n",
      " test accuracy is 78.7 \n",
      "\n",
      "At cv is 11 cv score is 74.82  \n",
      " test accuracy is 78.7 \n",
      "\n",
      "At cv is 12 cv score is 76.12  \n",
      " test accuracy is 78.7 \n",
      "\n",
      "At cv is 13 cv score is 74.69  \n",
      " test accuracy is 78.7 \n",
      "\n",
      "At cv is 14 cv score is 76.55  \n",
      " test accuracy is 78.7 \n",
      "\n",
      "At cv is 15 cv score is 74.82  \n",
      " test accuracy is 78.7 \n",
      "\n",
      "At cv is 16 cv score is 76.66  \n",
      " test accuracy is 78.7 \n",
      "\n",
      "At cv is 17 cv score is 75.58  \n",
      " test accuracy is 78.7 \n",
      "\n",
      "At cv is 18 cv score is 76.26  \n",
      " test accuracy is 78.7 \n",
      "\n",
      "At cv is 19 cv score is 76.53  \n",
      " test accuracy is 78.7 \n",
      "\n",
      "min diff between test accuracy and cv score  1.5826025459688964  at  7  max cv  77.1173974540311  at  7\n"
     ]
    }
   ],
   "source": [
    "x5_train,x5_test,y5_train,y5_test=train_test_split(X,Y,random_state=R,test_size=0.2)\n",
    "te_t(adboost_c,x5_train,x5_test,y5_train,y5_test)\n",
    "print('\\n')\n",
    "score(adboost_c,x5_train,x5_test,y5_train,y5_test)"
   ]
  },
  {
   "cell_type": "code",
   "execution_count": 82,
   "id": "f65f3633",
   "metadata": {},
   "outputs": [],
   "source": [
    "from sklearn.metrics import roc_curve,auc\n",
    "area=[]"
   ]
  },
  {
   "cell_type": "code",
   "execution_count": 83,
   "id": "a6932b7c",
   "metadata": {},
   "outputs": [
    {
     "name": "stdout",
     "output_type": "stream",
     "text": [
      "Area under the Decision Tree ROC curve : 0.685076\n"
     ]
    }
   ],
   "source": [
    "y_te=reg.predict(x1_test)\n",
    "fpr1,tpr1,threshold1=roc_curve(y_te,y1_test)\n",
    "roc_auc1= auc(fpr1, tpr1)\n",
    "area.append(roc_auc1)\n",
    "print(\"Area under the Decision Tree ROC curve : %f\" % roc_auc1)"
   ]
  },
  {
   "cell_type": "code",
   "execution_count": 84,
   "id": "1ac1d1f4",
   "metadata": {},
   "outputs": [
    {
     "name": "stdout",
     "output_type": "stream",
     "text": [
      "Area under the Random Forest ROC curve : 0.799834\n"
     ]
    }
   ],
   "source": [
    "y_te=rf_c.predict(x2_test)\n",
    "fpr2,tpr2,threshold2=roc_curve(y_te,y2_test)\n",
    "roc_auc2= auc(fpr2, tpr2)\n",
    "area.append(roc_auc2)\n",
    "print(\"Area under the Random Forest ROC curve : %f\" % roc_auc2)"
   ]
  },
  {
   "cell_type": "code",
   "execution_count": 85,
   "id": "8138ea37",
   "metadata": {},
   "outputs": [
    {
     "name": "stdout",
     "output_type": "stream",
     "text": [
      "Area under the KNN ROC curve : 0.757663\n"
     ]
    }
   ],
   "source": [
    "y_te=kc.predict(x3_test)\n",
    "fpr3,tpr3,threshold3=roc_curve(y_te,y3_test)\n",
    "roc_auc3= auc(fpr3, tpr3)\n",
    "area.append(roc_auc3)\n",
    "print(\"Area under the KNN ROC curve : %f\" % roc_auc3)"
   ]
  },
  {
   "cell_type": "code",
   "execution_count": 86,
   "id": "9c5702d5",
   "metadata": {},
   "outputs": [
    {
     "name": "stdout",
     "output_type": "stream",
     "text": [
      "Area under the Grad boost ROC curve : 0.807143\n"
     ]
    }
   ],
   "source": [
    "y_te=grad_c.predict(x4_test)\n",
    "fpr4,tpr4,threshold4=roc_curve(y_te,y4_test)\n",
    "roc_auc4= auc(fpr4, tpr4)\n",
    "area.append(roc_auc4)\n",
    "print(\"Area under the Grad boost ROC curve : %f\" % roc_auc4)"
   ]
  },
  {
   "cell_type": "code",
   "execution_count": 87,
   "id": "236a8d7f",
   "metadata": {},
   "outputs": [
    {
     "name": "stdout",
     "output_type": "stream",
     "text": [
      "Area under the ada boost ROC curve : 0.804548\n"
     ]
    }
   ],
   "source": [
    "y_te=adboost_c.predict(x5_test)\n",
    "fpr5,tpr5,threshold5=roc_curve(y_te,y5_test)\n",
    "roc_auc5= auc(fpr5, tpr5)\n",
    "area.append(roc_auc5)\n",
    "print(\"Area under the ada boost ROC curve : %f\" % roc_auc5)"
   ]
  },
  {
   "cell_type": "markdown",
   "id": "0a97e729",
   "metadata": {},
   "source": [
    "#### Creating Table to store datas"
   ]
  },
  {
   "cell_type": "code",
   "execution_count": 88,
   "id": "dbb44cab",
   "metadata": {},
   "outputs": [],
   "source": [
    "aa=['DT','RF','KNN','GRAD','adaboost']"
   ]
  },
  {
   "cell_type": "code",
   "execution_count": 89,
   "id": "5d01dddb",
   "metadata": {},
   "outputs": [
    {
     "data": {
      "text/html": [
       "<div>\n",
       "<style scoped>\n",
       "    .dataframe tbody tr th:only-of-type {\n",
       "        vertical-align: middle;\n",
       "    }\n",
       "\n",
       "    .dataframe tbody tr th {\n",
       "        vertical-align: top;\n",
       "    }\n",
       "\n",
       "    .dataframe thead th {\n",
       "        text-align: right;\n",
       "    }\n",
       "</style>\n",
       "<table border=\"1\" class=\"dataframe\">\n",
       "  <thead>\n",
       "    <tr style=\"text-align: right;\">\n",
       "      <th></th>\n",
       "      <th>test accuracy</th>\n",
       "      <th>max_cv_score</th>\n",
       "      <th>diff</th>\n",
       "      <th>mse</th>\n",
       "      <th>mae</th>\n",
       "      <th>F1 score</th>\n",
       "      <th>roc_curve_area</th>\n",
       "    </tr>\n",
       "  </thead>\n",
       "  <tbody>\n",
       "    <tr>\n",
       "      <th>RF</th>\n",
       "      <td>79.4</td>\n",
       "      <td>82.367262</td>\n",
       "      <td>0.566054</td>\n",
       "      <td>0.205674</td>\n",
       "      <td>0.205674</td>\n",
       "      <td>0.841530</td>\n",
       "      <td>0.799834</td>\n",
       "    </tr>\n",
       "    <tr>\n",
       "      <th>GRAD</th>\n",
       "      <td>79.4</td>\n",
       "      <td>78.109775</td>\n",
       "      <td>1.290225</td>\n",
       "      <td>0.205674</td>\n",
       "      <td>0.205674</td>\n",
       "      <td>0.849741</td>\n",
       "      <td>0.807143</td>\n",
       "    </tr>\n",
       "    <tr>\n",
       "      <th>adaboost</th>\n",
       "      <td>78.7</td>\n",
       "      <td>77.117397</td>\n",
       "      <td>1.582603</td>\n",
       "      <td>0.212766</td>\n",
       "      <td>0.212766</td>\n",
       "      <td>0.840426</td>\n",
       "      <td>0.804548</td>\n",
       "    </tr>\n",
       "    <tr>\n",
       "      <th>DT</th>\n",
       "      <td>68.8</td>\n",
       "      <td>75.256410</td>\n",
       "      <td>1.610839</td>\n",
       "      <td>0.312057</td>\n",
       "      <td>0.312057</td>\n",
       "      <td>0.717949</td>\n",
       "      <td>0.685076</td>\n",
       "    </tr>\n",
       "    <tr>\n",
       "      <th>KNN</th>\n",
       "      <td>76.6</td>\n",
       "      <td>72.546230</td>\n",
       "      <td>4.053770</td>\n",
       "      <td>0.234043</td>\n",
       "      <td>0.234043</td>\n",
       "      <td>0.807018</td>\n",
       "      <td>0.757663</td>\n",
       "    </tr>\n",
       "  </tbody>\n",
       "</table>\n",
       "</div>"
      ],
      "text/plain": [
       "          test accuracy  max_cv_score      diff       mse       mae  F1 score  \\\n",
       "RF                 79.4     82.367262  0.566054  0.205674  0.205674  0.841530   \n",
       "GRAD               79.4     78.109775  1.290225  0.205674  0.205674  0.849741   \n",
       "adaboost           78.7     77.117397  1.582603  0.212766  0.212766  0.840426   \n",
       "DT                 68.8     75.256410  1.610839  0.312057  0.312057  0.717949   \n",
       "KNN                76.6     72.546230  4.053770  0.234043  0.234043  0.807018   \n",
       "\n",
       "          roc_curve_area  \n",
       "RF              0.799834  \n",
       "GRAD            0.807143  \n",
       "adaboost        0.804548  \n",
       "DT              0.685076  \n",
       "KNN             0.757663  "
      ]
     },
     "execution_count": 89,
     "metadata": {},
     "output_type": "execute_result"
    }
   ],
   "source": [
    "kk=pd.DataFrame({'test accuracy':A,'max_cv_score': B,'diff':D,'mse':C,'mae':mae,'F1 score':E,'roc_curve_area':area},index=aa)\n",
    "kk.sort_values(by=['diff','test accuracy', 'mse', 'mae' ])"
   ]
  },
  {
   "cell_type": "code",
   "execution_count": 90,
   "id": "f2c4238a",
   "metadata": {},
   "outputs": [
    {
     "data": {
      "image/png": "[encoded data removed]",
      "text/plain": [
       "<Figure size 1440x1080 with 1 Axes>"
      ]
     },
     "metadata": {
      "needs_background": "light"
     },
     "output_type": "display_data"
    }
   ],
   "source": [
    "plt.figure(figsize = (20,15))\n",
    "\n",
    "plt.plot(fpr1, tpr1, label = 'ROC curve for DT (area = %0.2f)' % roc_auc1)\n",
    "plt.plot(fpr2, tpr2, label = 'ROC curve for RF (area = %0.2f)' % roc_auc2)\n",
    "plt.plot(fpr3, tpr3, label = 'ROC curve for KNN (area = %0.2f)' % roc_auc3)\n",
    "plt.plot(fpr4, tpr4, label = 'ROC curve for GRAD (area = %0.2f)' % roc_auc4)\n",
    "plt.plot(fpr5, tpr5, label = 'ROC curve for svc (area = %0.2f)' % roc_auc5)\n",
    "\n",
    "plt.plot([0, 1], [0, 1], [0, 1], [0, 1], 'k--')\n",
    "plt.xlim([0.0, 1.0])\n",
    "plt.ylim([0.0, 1.0])\n",
    "plt.xlabel('False Positive Rate')\n",
    "plt.ylabel('True Positive Rate')\n",
    "plt.title('ROC curve')\n",
    "plt.legend(loc = 'lower right', fontsize = 20)\n",
    "plt.grid(True)\n",
    "plt.show()"
   ]
  },
  {
   "cell_type": "markdown",
   "id": "458da775",
   "metadata": {},
   "source": [
    "#### inference\n"
   ]
  },
  {
   "cell_type": "markdown",
   "id": "f4174132",
   "metadata": {},
   "source": [
    "- random forest is the best model\n",
    "    - least difference between cv_score and test accuracy\n",
    "    - roc curve area is same for rf and grad, both models has highest area under roc_curve\n",
    "    - error is same for rf and grad, least error compared to other models\n",
    "    - F1 score is second highest for rf\n",
    "    - Grad boosting take more time than random forest"
   ]
  },
  {
   "cell_type": "markdown",
   "id": "432e27cd",
   "metadata": {},
   "source": [
    "#### Hyper paramter tuning"
   ]
  },
  {
   "cell_type": "code",
   "execution_count": 91,
   "id": "cb4f653f",
   "metadata": {},
   "outputs": [],
   "source": [
    "from sklearn.model_selection import GridSearchCV"
   ]
  },
  {
   "cell_type": "code",
   "execution_count": 101,
   "id": "a958642e",
   "metadata": {},
   "outputs": [],
   "source": [
    "par={'n_estimators': [300,400,500], \n",
    "     'max_features': ['log2', 'sqrt','auto'],\n",
    "     'criterion': ['entropy', 'gini'],\n",
    "     'max_depth': [200,300,400],\n",
    "     'min_samples_split':[2, 3, 4]\n",
    "}"
   ]
  },
  {
   "cell_type": "code",
   "execution_count": 102,
   "id": "1b8c329f",
   "metadata": {},
   "outputs": [
    {
     "data": {
      "text/plain": [
       "{'criterion': 'entropy',\n",
       " 'max_depth': 200,\n",
       " 'max_features': 'sqrt',\n",
       " 'min_samples_split': 3,\n",
       " 'n_estimators': 400}"
      ]
     },
     "execution_count": 102,
     "metadata": {},
     "output_type": "execute_result"
    }
   ],
   "source": [
    "grid=GridSearchCV( rf_c,par,cv=2)\n",
    "grid.fit(x2_train,y2_train)\n",
    "grid.best_params_  "
   ]
  },
  {
   "cell_type": "code",
   "execution_count": 103,
   "id": "db02eab1",
   "metadata": {},
   "outputs": [
    {
     "name": "stdout",
     "output_type": "stream",
     "text": [
      "80.9\n"
     ]
    }
   ],
   "source": [
    "rf=RandomForestClassifier( criterion= 'entropy', max_depth = 200, max_features= 'sqrt', min_samples_split= 3, n_estimators= 400)\n",
    "rf.fit(x2_train,y2_train)\n",
    "y_te=rf.predict(x2_test)\n",
    "r2=round(accuracy_score(y2_test,y_te)*100,1)\n",
    "print(r2)"
   ]
  },
  {
   "cell_type": "code",
   "execution_count": 104,
   "id": "00d22956",
   "metadata": {},
   "outputs": [
    {
     "name": "stdout",
     "output_type": "stream",
     "text": [
      "80.82\n"
     ]
    }
   ],
   "source": [
    "cv_score=cross_val_score(rf,X,Y,cv=7)\n",
    "cv_mean=round(cv_score.mean()*100,2)\n",
    "print(cv_mean)"
   ]
  },
  {
   "cell_type": "code",
   "execution_count": 105,
   "id": "4de565e8",
   "metadata": {},
   "outputs": [
    {
     "data": {
      "image/png": "[encoded data removed]",
      "text/plain": [
       "<Figure size 432x288 with 2 Axes>"
      ]
     },
     "metadata": {
      "needs_background": "light"
     },
     "output_type": "display_data"
    },
    {
     "name": "stdout",
     "output_type": "stream",
     "text": [
      "\n",
      "\n"
     ]
    }
   ],
   "source": [
    "cm = confusion_matrix(y2_test, y_te)\n",
    "class_label = [\"Yes\", \"No\"]\n",
    "df_cm = pd.DataFrame(cm, index=class_label,columns=class_label)\n",
    "sns.heatmap(df_cm, annot=True, fmt='d')\n",
    "plt.title(\"Confusion Matrix\")\n",
    "plt.xlabel(\"Predicted\")\n",
    "plt.ylabel(\"Actual\")\n",
    "plt.show()\n",
    "print('\\n')"
   ]
  },
  {
   "cell_type": "markdown",
   "id": "50747be3",
   "metadata": {},
   "source": [
    "- test accuracy and cv_score increased\n",
    "- difference between test accuracy and cv_score decreased to 0.08\n",
    "- the FN rate has also decreased, Fn here signifies that the loan shouldnt be approved but the model says loan can be approved which is not ideal for the company to do so"
   ]
  },
  {
   "cell_type": "markdown",
   "id": "060b7725",
   "metadata": {},
   "source": [
    "#### Storing model and loading it"
   ]
  },
  {
   "cell_type": "code",
   "execution_count": 108,
   "id": "38b7ea9e",
   "metadata": {},
   "outputs": [],
   "source": [
    "import pickle\n",
    "filename='loan_application_status.pkl'\n",
    "pickle.dump(rf,open(filename,'wb'))"
   ]
  },
  {
   "cell_type": "code",
   "execution_count": 109,
   "id": "a027c66f",
   "metadata": {},
   "outputs": [
    {
     "name": "stdout",
     "output_type": "stream",
     "text": [
      "80.85106382978722\n"
     ]
    }
   ],
   "source": [
    "l_m=pickle.load(open('loan_application_status.pkl','rb'))\n",
    "re=l_m.score(x2_test,y2_test)\n",
    "print(re*100)"
   ]
  }
 ],
 "metadata": {
  "kernelspec": {
   "display_name": "Python 3 (ipykernel)",
   "language": "python",
   "name": "python3"
  },
  "language_info": {
   "codemirror_mode": {
    "name": "ipython",
    "version": 3
   },
   "file_extension": ".py",
   "mimetype": "text/x-python",
   "name": "python",
   "nbconvert_exporter": "python",
   "pygments_lexer": "ipython3",
   "version": "3.9.7"
  }
 },
 "nbformat": 4,
 "nbformat_minor": 5
}
